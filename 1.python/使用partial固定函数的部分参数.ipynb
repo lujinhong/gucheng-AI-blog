{
 "cells": [
  {
   "cell_type": "markdown",
   "id": "4d681e7e-c923-4236-8508-6eaa84a9f194",
   "metadata": {},
   "source": [
    "functools模块这样为为高阶函数提供支持，partial 就是其中的一个，它的主要作用是：\n",
    "**把一个函数的某些参数给固定住，返回一个新的函数。**\n",
    "\n",
    "我们先看一个例子："
   ]
  },
  {
   "cell_type": "code",
   "execution_count": 2,
   "id": "08dd2474-786e-4118-8a4f-eb0e711c986d",
   "metadata": {},
   "outputs": [
    {
     "name": "stdout",
     "output_type": "stream",
     "text": [
      "15\n"
     ]
    }
   ],
   "source": [
    "def multiply(x, y=3):\n",
    "    return x*y\n",
    "print(multiply(5))"
   ]
  },
  {
   "cell_type": "markdown",
   "id": "60286520-b9f9-4390-a06e-e4dbc88d8824",
   "metadata": {},
   "source": [
    "我们可以使用上述默认参数的方式来减少需要提供的参数，但对于一些并非由你自己定义的函数，或者其默认值不适合你的需求，而你又不想频繁的填写参数，这时你就可以使用patial了："
   ]
  },
  {
   "cell_type": "code",
   "execution_count": 4,
   "id": "11e1019b-7fb1-45e7-82d7-ba68374b6996",
   "metadata": {},
   "outputs": [
    {
     "name": "stdout",
     "output_type": "stream",
     "text": [
      "10\n",
      "15\n"
     ]
    }
   ],
   "source": [
    "from functools import partial\n",
    "double = partial(multiply, y=2)\n",
    "triple = partial(multiply, y=3)\n",
    "\n",
    "print(double(5))\n",
    "print(triple(5))"
   ]
  },
  {
   "cell_type": "markdown",
   "id": "76e32b33-b45c-412c-958b-ce35b7420676",
   "metadata": {},
   "source": [
    "比如在DNN中，经常有一些相同或者近似的层，此时就可以使用partial了：\n"
   ]
  },
  {
   "cell_type": "code",
   "execution_count": 6,
   "id": "55fd706b-3e9f-48df-b918-72cf16b9891c",
   "metadata": {},
   "outputs": [],
   "source": [
    "import tensorflow as tf\n",
    "from tensorflow import keras\n",
    "\n",
    "from functools import partial\n",
    "DefaultConv2D = partial(keras.layers.Conv2D, kernel_size=3, activation='relu', padding='SAME')\n",
    "\n",
    "model = keras.models.Sequential([\n",
    "    DefaultConv2D(filters=64, kernel_size=7, input_shape=[28,28,1]),\n",
    "    keras.layers.MaxPooling2D(pool_size=2),\n",
    "    DefaultConv2D(filters=128),\n",
    "    DefaultConv2D(filters=128),\n",
    "    keras.layers.MaxPooling2D(pool_size=2),\n",
    "    DefaultConv2D(filters=256),\n",
    "    DefaultConv2D(filters=256),\n",
    "    keras.layers.MaxPooling2D(pool_size=2),\n",
    "    keras.layers.Flatten(),\n",
    "    keras.layers.Dense(units=128, activation='relu'),\n",
    "    keras.layers.Dropout(0.5),\n",
    "    keras.layers.Dense(units=64, activation='relu'),\n",
    "    keras.layers.Dropout(0.5),\n",
    "    keras.layers.Dense(units=10, activation='softmax')\n",
    "])"
   ]
  },
  {
   "cell_type": "code",
   "execution_count": null,
   "id": "5755a6ed-8c27-4d66-b0aa-784f8c8406a2",
   "metadata": {},
   "outputs": [],
   "source": []
  }
 ],
 "metadata": {
  "kernelspec": {
   "display_name": "Python 3",
   "language": "python",
   "name": "python3"
  },
  "language_info": {
   "codemirror_mode": {
    "name": "ipython",
    "version": 3
   },
   "file_extension": ".py",
   "mimetype": "text/x-python",
   "name": "python",
   "nbconvert_exporter": "python",
   "pygments_lexer": "ipython3",
   "version": "3.8.8"
  }
 },
 "nbformat": 4,
 "nbformat_minor": 5
}
