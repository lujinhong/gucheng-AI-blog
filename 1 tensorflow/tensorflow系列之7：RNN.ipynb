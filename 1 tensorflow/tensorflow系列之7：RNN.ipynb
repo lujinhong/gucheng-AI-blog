{
 "cells": [
  {
   "cell_type": "code",
   "execution_count": 37,
   "id": "b7a4a624",
   "metadata": {},
   "outputs": [],
   "source": [
    "import numpy as np\n",
    "import matplotlib as mpl\n",
    "import matplotlib.pyplot as plt\n",
    "import tensorflow as tf\n",
    "from tensorflow import keras\n",
    "\n",
    "def plot_series(series, y=None, y_pred=None, x_label=\"$t$\", y_label=\"$x(t)$\"):\n",
    "    plt.plot(series, \".-\")\n",
    "    if y is not None:\n",
    "        plt.plot(n_steps, y, \"bx\", markersize=10)\n",
    "    if y_pred is not None:\n",
    "        plt.plot(n_steps, y_pred, \"ro\")\n",
    "    plt.grid(True)\n",
    "    if x_label:\n",
    "        plt.xlabel(x_label, fontsize=16)\n",
    "    if y_label:\n",
    "        plt.ylabel(y_label, fontsize=16, rotation=0)\n",
    "    plt.hlines(0, 0, 100, linewidth=1)\n",
    "    plt.axis([0, n_steps + 1, -1, 1])"
   ]
  },
  {
   "cell_type": "markdown",
   "id": "235a3e3d",
   "metadata": {},
   "source": [
    "## 1、预测时间序列\n",
    "\n",
    "### 1.1 数据准备\n",
    "\n",
    "此函数根据请求（通过batch_size参数）创建任意数量的时间序列，每个序列的长度为n_steps，并且每个序列中每个时间步长只有一个值（即所有序列都是单变量的）。该函数返回一个形状为[批处理大小，时间步长，1]的NumPy数组，其中每个序列是两个固定振幅但频率和相位随机的正弦波的总和，再加上一点噪声。"
   ]
  },
  {
   "cell_type": "code",
   "execution_count": 22,
   "id": "d5d91339",
   "metadata": {},
   "outputs": [],
   "source": [
    "def generate_time_series(batch_size, n_steps):\n",
    "    freq1, freq2, offsets1, offsets2 = np.random.rand(4, batch_size, 1)\n",
    "    time = np.linspace(0, 1, n_steps)\n",
    "    series = 0.5 * np.sin((time - offsets1) * (freq1 * 10 + 10))  #   wave 1\n",
    "    series += 0.2 * np.sin((time - offsets2) * (freq2 * 20 + 20)) # + wave 2\n",
    "    series += 0.1 * (np.random.rand(batch_size, n_steps) - 0.5)   # + noise\n",
    "    return series[..., np.newaxis].astype(np.float32)\n"
   ]
  },
  {
   "cell_type": "markdown",
   "id": "5ef455db",
   "metadata": {},
   "source": [
    "X_train包含7000个时间序列（即其形状为[7000，50，1]），而X_valid包含2000个（从第7000个时间序列到8999个），X_test包含1000个（从9000个时间序列到9999个）。由于我们要为每个序列预测一个值，因此目标是列向量（例如，y_train的形状为[7000，1]）。"
   ]
  },
  {
   "cell_type": "code",
   "execution_count": 23,
   "id": "2030b9f5",
   "metadata": {},
   "outputs": [],
   "source": [
    "np.random.seed(42)\n",
    "\n",
    "n_steps = 50\n",
    "series = generate_time_series(10000, n_steps + 1)\n",
    "X_train, y_train = series[:7000, :n_steps], series[:7000, -1]\n",
    "X_valid, y_valid = series[7000:9000, :n_steps], series[7000:9000, -1]\n",
    "X_test, y_test = series[9000:, :n_steps], series[9000:, -1]"
   ]
  },
  {
   "cell_type": "markdown",
   "id": "1f12bcf2",
   "metadata": {},
   "source": [
    "### 1.2 基准指标\n",
    "\n",
    "我们使用一个全连接网络来作为基准，其mse loss大约为0.004。"
   ]
  },
  {
   "cell_type": "code",
   "execution_count": 30,
   "id": "34e72680",
   "metadata": {},
   "outputs": [
    {
     "name": "stdout",
     "output_type": "stream",
     "text": [
      "Epoch 1/20\n",
      "219/219 [==============================] - 1s 2ms/step - loss: 0.0525 - val_loss: 0.0251\n",
      "Epoch 2/20\n",
      "219/219 [==============================] - 0s 880us/step - loss: 0.0184 - val_loss: 0.0141\n",
      "Epoch 3/20\n",
      "219/219 [==============================] - 0s 1ms/step - loss: 0.0118 - val_loss: 0.0102\n",
      "Epoch 4/20\n",
      "219/219 [==============================] - 0s 1ms/step - loss: 0.0092 - val_loss: 0.0087\n",
      "Epoch 5/20\n",
      "219/219 [==============================] - 0s 801us/step - loss: 0.0079 - val_loss: 0.0076\n",
      "Epoch 6/20\n",
      "219/219 [==============================] - 0s 855us/step - loss: 0.0071 - val_loss: 0.0067\n",
      "Epoch 7/20\n",
      "219/219 [==============================] - 0s 1ms/step - loss: 0.0064 - val_loss: 0.0062\n",
      "Epoch 8/20\n",
      "219/219 [==============================] - 0s 707us/step - loss: 0.0059 - val_loss: 0.0056\n",
      "Epoch 9/20\n",
      "219/219 [==============================] - 0s 914us/step - loss: 0.0055 - val_loss: 0.0053\n",
      "Epoch 10/20\n",
      "219/219 [==============================] - 0s 946us/step - loss: 0.0052 - val_loss: 0.0050\n",
      "Epoch 11/20\n",
      "219/219 [==============================] - 0s 781us/step - loss: 0.0049 - val_loss: 0.0048\n",
      "Epoch 12/20\n",
      "219/219 [==============================] - 0s 769us/step - loss: 0.0047 - val_loss: 0.0046\n",
      "Epoch 13/20\n",
      "219/219 [==============================] - 0s 764us/step - loss: 0.0046 - val_loss: 0.0044\n",
      "Epoch 14/20\n",
      "219/219 [==============================] - 0s 932us/step - loss: 0.0045 - val_loss: 0.0044\n",
      "Epoch 15/20\n",
      "219/219 [==============================] - 0s 695us/step - loss: 0.0044 - val_loss: 0.0043\n",
      "Epoch 16/20\n",
      "219/219 [==============================] - 0s 1ms/step - loss: 0.0043 - val_loss: 0.0042\n",
      "Epoch 17/20\n",
      "219/219 [==============================] - 0s 878us/step - loss: 0.0042 - val_loss: 0.0041\n",
      "Epoch 18/20\n",
      "219/219 [==============================] - 0s 796us/step - loss: 0.0041 - val_loss: 0.0040\n",
      "Epoch 19/20\n",
      "219/219 [==============================] - 0s 881us/step - loss: 0.0040 - val_loss: 0.0039\n",
      "Epoch 20/20\n",
      "219/219 [==============================] - 0s 886us/step - loss: 0.0039 - val_loss: 0.0038\n"
     ]
    },
    {
     "data": {
      "text/plain": [
       "<tensorflow.python.keras.callbacks.History at 0x7f08f04287f0>"
      ]
     },
     "execution_count": 30,
     "metadata": {},
     "output_type": "execute_result"
    }
   ],
   "source": [
    "model = keras.models.Sequential([\n",
    "    keras.layers.Flatten(input_shape=[50, 1]),\n",
    "    keras.layers.Dense(1)\n",
    "])\n",
    "\n",
    "model.compile(loss='mse', optimizer='adam')\n",
    "model.fit(X_train, y_train, epochs=20, validation_data=(X_valid, y_valid))"
   ]
  },
  {
   "cell_type": "markdown",
   "id": "083f1997",
   "metadata": {},
   "source": [
    "### 1.3 简单的RNN\n",
    "\n",
    "我们看一下一个简单的RNN的效果："
   ]
  },
  {
   "cell_type": "code",
   "execution_count": 32,
   "id": "2043712e",
   "metadata": {},
   "outputs": [
    {
     "name": "stdout",
     "output_type": "stream",
     "text": [
      "Epoch 1/20\n",
      "219/219 [==============================] - 3s 12ms/step - loss: 0.9197 - val_loss: 0.8354\n",
      "Epoch 2/20\n",
      "219/219 [==============================] - 2s 9ms/step - loss: 0.6965 - val_loss: 0.5940\n",
      "Epoch 3/20\n",
      "219/219 [==============================] - 2s 10ms/step - loss: 0.4767 - val_loss: 0.4386\n",
      "Epoch 4/20\n",
      "219/219 [==============================] - 2s 10ms/step - loss: 0.4125 - val_loss: 0.3828\n",
      "Epoch 5/20\n",
      "219/219 [==============================] - 2s 9ms/step - loss: 0.3558 - val_loss: 0.3292\n",
      "Epoch 6/20\n",
      "219/219 [==============================] - 2s 9ms/step - loss: 0.3062 - val_loss: 0.2848\n",
      "Epoch 7/20\n",
      "219/219 [==============================] - 2s 8ms/step - loss: 0.2690 - val_loss: 0.2505\n",
      "Epoch 8/20\n",
      "219/219 [==============================] - 2s 9ms/step - loss: 0.2342 - val_loss: 0.2199\n",
      "Epoch 9/20\n",
      "219/219 [==============================] - 2s 10ms/step - loss: 0.2007 - val_loss: 0.1846\n",
      "Epoch 10/20\n",
      "219/219 [==============================] - 2s 9ms/step - loss: 0.1687 - val_loss: 0.1596\n",
      "Epoch 11/20\n",
      "219/219 [==============================] - 2s 9ms/step - loss: 0.1476 - val_loss: 0.1480\n",
      "Epoch 12/20\n",
      "219/219 [==============================] - 2s 8ms/step - loss: 0.1428 - val_loss: 0.1460\n",
      "Epoch 13/20\n",
      "219/219 [==============================] - 2s 8ms/step - loss: 0.1408 - val_loss: 0.1442\n",
      "Epoch 14/20\n",
      "219/219 [==============================] - 2s 9ms/step - loss: 0.1412 - val_loss: 0.1442\n",
      "Epoch 15/20\n",
      "219/219 [==============================] - 2s 9ms/step - loss: 0.1410 - val_loss: 0.1446\n",
      "Epoch 16/20\n",
      "219/219 [==============================] - 2s 9ms/step - loss: 0.1408 - val_loss: 0.1447\n",
      "Epoch 17/20\n",
      "219/219 [==============================] - 2s 8ms/step - loss: 0.1415 - val_loss: 0.1457\n",
      "Epoch 18/20\n",
      "219/219 [==============================] - 2s 9ms/step - loss: 0.1403 - val_loss: 0.1513\n",
      "Epoch 19/20\n",
      "219/219 [==============================] - 2s 8ms/step - loss: 0.1413 - val_loss: 0.1449\n",
      "Epoch 20/20\n",
      "219/219 [==============================] - 2s 8ms/step - loss: 0.1409 - val_loss: 0.1470\n"
     ]
    },
    {
     "data": {
      "text/plain": [
       "<tensorflow.python.keras.callbacks.History at 0x7f0912293c40>"
      ]
     },
     "execution_count": 32,
     "metadata": {},
     "output_type": "execute_result"
    }
   ],
   "source": [
    "model = keras.models.Sequential([\n",
    "    keras.layers.SimpleRNN(1, input_shape=[None, 1])\n",
    "])\n",
    "model.compile(loss='mse', optimizer='adam')\n",
    "model.fit(X_train, y_train, epochs=20, validation_data=(X_valid, y_valid))"
   ]
  },
  {
   "cell_type": "markdown",
   "id": "888be166",
   "metadata": {},
   "source": [
    "可以看到其MSE loss为0.14，不如全连接网络。\n",
    "\n",
    "### 1.4 深度RNN\n",
    "我们再看一下深度RNN的效果：\n"
   ]
  },
  {
   "cell_type": "code",
   "execution_count": 33,
   "id": "50603c11",
   "metadata": {},
   "outputs": [
    {
     "name": "stdout",
     "output_type": "stream",
     "text": [
      "Epoch 1/20\n",
      "219/219 [==============================] - 9s 32ms/step - loss: 0.0628 - val_loss: 0.0118\n",
      "Epoch 2/20\n",
      "219/219 [==============================] - 7s 31ms/step - loss: 0.0088 - val_loss: 0.0063\n",
      "Epoch 3/20\n",
      "219/219 [==============================] - 6s 28ms/step - loss: 0.0061 - val_loss: 0.0053\n",
      "Epoch 4/20\n",
      "219/219 [==============================] - 6s 25ms/step - loss: 0.0047 - val_loss: 0.0043\n",
      "Epoch 5/20\n",
      "219/219 [==============================] - 5s 23ms/step - loss: 0.0041 - val_loss: 0.0035\n",
      "Epoch 6/20\n",
      "219/219 [==============================] - 5s 22ms/step - loss: 0.0038 - val_loss: 0.0033\n",
      "Epoch 7/20\n",
      "219/219 [==============================] - 5s 23ms/step - loss: 0.0034 - val_loss: 0.0030\n",
      "Epoch 8/20\n",
      "219/219 [==============================] - 5s 22ms/step - loss: 0.0034 - val_loss: 0.0031\n",
      "Epoch 9/20\n",
      "219/219 [==============================] - 5s 25ms/step - loss: 0.0033 - val_loss: 0.0028\n",
      "Epoch 10/20\n",
      "219/219 [==============================] - 6s 26ms/step - loss: 0.0032 - val_loss: 0.0030\n",
      "Epoch 11/20\n",
      "219/219 [==============================] - 6s 27ms/step - loss: 0.0032 - val_loss: 0.0032\n",
      "Epoch 12/20\n",
      "219/219 [==============================] - 6s 27ms/step - loss: 0.0031 - val_loss: 0.0027\n",
      "Epoch 13/20\n",
      "219/219 [==============================] - 6s 30ms/step - loss: 0.0031 - val_loss: 0.0032\n",
      "Epoch 14/20\n",
      "219/219 [==============================] - 6s 29ms/step - loss: 0.0031 - val_loss: 0.0029\n",
      "Epoch 15/20\n",
      "219/219 [==============================] - 6s 29ms/step - loss: 0.0031 - val_loss: 0.0027\n",
      "Epoch 16/20\n",
      "219/219 [==============================] - 6s 28ms/step - loss: 0.0031 - val_loss: 0.0028\n",
      "Epoch 17/20\n",
      "219/219 [==============================] - 6s 27ms/step - loss: 0.0030 - val_loss: 0.0030\n",
      "Epoch 18/20\n",
      "219/219 [==============================] - 6s 27ms/step - loss: 0.0030 - val_loss: 0.0029\n",
      "Epoch 19/20\n",
      "219/219 [==============================] - 6s 26ms/step - loss: 0.0030 - val_loss: 0.0031\n",
      "Epoch 20/20\n",
      "219/219 [==============================] - 7s 31ms/step - loss: 0.0030 - val_loss: 0.0031\n"
     ]
    }
   ],
   "source": [
    "model = keras.models.Sequential([\n",
    "    keras.layers.SimpleRNN(20, return_sequences=True, input_shape=[None, 1]),\n",
    "    keras.layers.SimpleRNN(20, return_sequences=True),\n",
    "    keras.layers.SimpleRNN(1)\n",
    "])\n",
    "\n",
    "model.compile(loss=\"mse\", optimizer=\"adam\")\n",
    "history = model.fit(X_train, y_train, epochs=20,\n",
    "                    validation_data=(X_valid, y_valid))"
   ]
  },
  {
   "cell_type": "markdown",
   "id": "0300247f",
   "metadata": {},
   "source": [
    "深度RNN的mse loss约为0.003，优于全连接网络了。\n",
    "\n",
    "### 1.5 预测未来几个时间步长\n",
    "\n",
    "到目前为止，我们仅仅预测了下一个时间步长的值，但是我们可以很容易地通过适当地更改目标来预测未来几步的值（例如，要预测下十步，只需将目标更改为未来10步，而不是未来1步）。但是，如果我们要预测接下来的10个值怎么办？\n",
    "\n",
    "\n",
    "第一种选择是使用已经训练好的模型，使其预测下一个值，然后将该值加到输入中（就像这个预测值实际上已经有了），然后再次使用该模型预测后面的值，以此类推，如以下代码所示："
   ]
  },
  {
   "cell_type": "code",
   "execution_count": 35,
   "id": "117cfe9d",
   "metadata": {},
   "outputs": [
    {
     "name": "stdout",
     "output_type": "stream",
     "text": [
      "[[[ 0.59878635]\n",
      "  [ 0.5962956 ]\n",
      "  [ 0.5101831 ]\n",
      "  [ 0.3353485 ]\n",
      "  [ 0.09413009]\n",
      "  [-0.14639963]\n",
      "  [-0.32425976]\n",
      "  [-0.42145067]\n",
      "  [-0.47292346]\n",
      "  [-0.4698904 ]]]\n"
     ]
    }
   ],
   "source": [
    "np.random.seed(43) # not 42, as it would give the first series in the train set\n",
    "\n",
    "series = generate_time_series(1, n_steps + 10)\n",
    "X_new, Y_new = series[:, :n_steps], series[:, n_steps:]\n",
    "X = X_new\n",
    "for step_ahead in range(10):\n",
    "    y_pred_one = model.predict(X[:, step_ahead:])[:, np.newaxis, :]\n",
    "    X = np.concatenate([X, y_pred_one], axis=1)\n",
    "\n",
    "Y_pred = X[:, n_steps:]\n",
    "print(Y_pred)"
   ]
  },
  {
   "cell_type": "markdown",
   "id": "eb47fd38",
   "metadata": {},
   "source": [
    "如你所料，由于误差可能会累积（如图158所示），因此对下一步长的预测通常会比对未来几个时间步长的预测更为准确。如果你在验证集上评估此方法，会发现MSE约为0.029。这比以前的模型要高得多，但这也是一个更难的任务，因此比较没有太大的意义。把这个性能与单纯预测（仅仅预测这个时间序列在10个时间步长内保持不变）或简单的线性模型进行比较会有更大的意义。单纯方法很糟糕（它的MSE约为0.223），但是线性模型的MSE约为0.0188：这比使用RNN一次预测未来的一步要好得多，而且训练和运行速度也更快。如果你只想预测一些较复杂的任务的未来几个时间步长，这个方法可能会工作得很好。\n",
    "\n",
    "第二种选择是训练RNN一次预测所有10个值。我们仍然可以使用一个序列到向量的模型，但是它输出10个值而不是1个值。但是，我们首先需要将目标更改为包含接下来10个值的向量：\n"
   ]
  },
  {
   "cell_type": "code",
   "execution_count": 39,
   "id": "c28e78f2",
   "metadata": {},
   "outputs": [
    {
     "data": {
      "image/png": "[encoded data removed]",
      "text/plain": [
       "<Figure size 432x288 with 1 Axes>"
      ]
     },
     "metadata": {
      "needs_background": "light"
     },
     "output_type": "display_data"
    }
   ],
   "source": [
    "def plot_multiple_forecasts(X, Y, Y_pred):\n",
    "    n_steps = X.shape[1]\n",
    "    ahead = Y.shape[1]\n",
    "    plot_series(X[0, :, 0])\n",
    "    plt.plot(np.arange(n_steps, n_steps + ahead), Y[0, :, 0], \"ro-\", label=\"Actual\")\n",
    "    plt.plot(np.arange(n_steps, n_steps + ahead), Y_pred[0, :, 0], \"bx-\", label=\"Forecast\", markersize=10)\n",
    "    plt.axis([0, n_steps + ahead, -1, 1])\n",
    "    plt.legend(fontsize=14)\n",
    "\n",
    "plot_multiple_forecasts(X_new, Y_new, Y_pred)\n",
    "plt.show()"
   ]
  },
  {
   "cell_type": "markdown",
   "id": "248e6a82",
   "metadata": {},
   "source": [
    "该模型运行良好：接下来10个时间步长的MSE约为0.008。这比线性模型好得多。但是我们仍然可以做得更好：实际上，与其训练模型在最后一个时间步长预测下一个10个值，不如训练模型在每个时间步长来预测下一个10个值。换句话说，我们可以将这个序列到向量的RNN转换为序列到序列的RNN。这种技术的优势在于，损失将包含每个时间步长的RNN输出项，而不仅仅是最后一个时间步长的输出项。这意味着将有更多的误差梯度流过模型，它们不需要随时间而“流淌”。它们从每个时间步长的输出中流出。这会稳定和加速训练。\n",
    "\n",
    "为了清楚起见，模型在时间步长0时会输出一个向量，其中包含时间步长1到10的预测，然后在时间步长1时模型会预测时间步长2到11，以此类推。因此，每个目标必须是与输入序列长度相同的序列，在每个步长都必须包含10维向量。"
   ]
  },
  {
   "cell_type": "code",
   "execution_count": null,
   "id": "a7cd3dcf",
   "metadata": {},
   "outputs": [],
   "source": [
    "见book。"
   ]
  }
 ],
 "metadata": {
  "kernelspec": {
   "display_name": "Python 3",
   "language": "python",
   "name": "python3"
  },
  "language_info": {
   "codemirror_mode": {
    "name": "ipython",
    "version": 3
   },
   "file_extension": ".py",
   "mimetype": "text/x-python",
   "name": "python",
   "nbconvert_exporter": "python",
   "pygments_lexer": "ipython3",
   "version": "3.8.8"
  }
 },
 "nbformat": 4,
 "nbformat_minor": 5
}
