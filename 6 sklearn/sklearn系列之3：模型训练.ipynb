{
 "cells": [
  {
   "cell_type": "code",
   "execution_count": 12,
   "metadata": {},
   "outputs": [],
   "source": [
    "import numpy as np\n",
    "import pandas as pd\n",
    "import sklearn\n",
    "import matplotlib.pyplot as plt\n",
    "import os, urllib, tarfile\n"
   ]
  },
  {
   "cell_type": "markdown",
   "metadata": {},
   "source": [
    "本文主要介绍了模型训练中的各方面内容，包括模型构建、loss、优化器、metrics、正则化、学习率、激活函数、epochs、参数初始化、超参数搜索等。\n",
    "\n",
    "\n",
    "\n",
    "## 1、模型训练\n",
    "sklearn使用numpy ndarray或者pandas dataframe作为训练数据，调用fit()函数即可完成训练。\n",
    "\n",
    "### 1.1 二分类\n",
    "\n",
    "我们先看一个二分类问题，将mnist分类成数字5和非5两类："
   ]
  },
  {
   "cell_type": "code",
   "execution_count": 23,
   "metadata": {},
   "outputs": [
    {
     "name": "stdout",
     "output_type": "stream",
     "text": [
      "[ True]\n"
     ]
    },
    {
     "data": {
      "text/plain": [
       "array([0.9585, 0.9585, 0.96  ])"
      ]
     },
     "execution_count": 23,
     "metadata": {},
     "output_type": "execute_result"
    }
   ],
   "source": [
    "from sklearn.datasets import fetch_openml\n",
    "mnist = fetch_openml('mnist_784', version=1)\n",
    "X,y = mnist['data'], mnist['target']\n",
    "\n",
    "X_train, X_test = X[:6000], X[6000:]\n",
    "y_train, y_test = y[:6000].astype(np.uint8), y[6000:].astype(np.uint8)\n",
    "y_train_5 = (y_train == 5)\n",
    "y_test_5 = (y_test == 5)\n",
    "\n",
    "from sklearn.linear_model import SGDClassifier\n",
    "sgd_clf = SGDClassifier(loss='hinge')\n",
    "sgd_clf.fit(X_train, y_train_5)\n",
    "print(sgd_clf.predict([X[0]]))\n",
    "\n",
    "from sklearn.model_selection import cross_val_score\n",
    "cross_val_score(sgd_model, X_train, y_train_5, cv=3, scoring='accuracy')"
   ]
  },
  {
   "cell_type": "markdown",
   "metadata": {},
   "source": [
    "### 1.2 回归\n",
    "\n",
    "我们再看一个回归算法的示例，使用的是housing数据集，预测地区房产的中位数。"
   ]
  },
  {
   "cell_type": "code",
   "execution_count": 15,
   "metadata": {},
   "outputs": [
    {
     "name": "stdout",
     "output_type": "stream",
     "text": [
      "-3570118.0614940603 [-4.26104026e+04 -4.24754782e+04  1.14445085e+03 -6.62091740e+00\n",
      "  8.11609666e+01 -3.98732002e+01  7.93047225e+01  3.97522237e+04]\n"
     ]
    }
   ],
   "source": [
    "DOWNLOAD_ROOT = \"https://raw.githubusercontent.com/ageron/handson-ml2/master/\"\n",
    "HOUSING_PATH = os.path.join(\"datasets\", \"housing\")\n",
    "HOUSING_URL = DOWNLOAD_ROOT + \"datasets/housing/housing.tgz\"\n",
    "\n",
    "def fetch_housing_data(housing_url=HOUSING_URL, housing_path=HOUSING_PATH):\n",
    "    if not os.path.isdir(housing_path):\n",
    "        os.makedirs(housing_path)\n",
    "    tgz_file = os.path.join(housing_path,'housing.tgz')\n",
    "    urllib.request.urlretrieve(housing_url, tgz_file)\n",
    "    housing_tgz = tarfile.open(tgz_file)\n",
    "    housing_tgz.extractall(path = housing_path) #解压文件\n",
    "    housing_tgz.close()\n",
    "    \n",
    "# fetch_housing_data()\n",
    "\n",
    "housing = pd.read_csv(os.path.join(HOUSING_PATH,'housing.csv'))\n",
    "\n",
    "median = housing['total_bedrooms'].median()\n",
    "housing['total_bedrooms'].fillna(median,inplace=True)\n",
    "\n",
    "housing_label = housing['median_house_value']\n",
    "housing_feature = housing.drop(['median_house_value','ocean_proximity'], axis=1)\n",
    "\n",
    "from sklearn.linear_model import LinearRegression\n",
    "lin_reg = LinearRegression()\n",
    "lin_reg.fit(housing_feature,housing_label)\n",
    "print(model.intercept_, model.coef_)"
   ]
  },
  {
   "cell_type": "markdown",
   "metadata": {},
   "source": [
    "## 5、metrics\n",
    "\n",
    "chpt3的二分类问题以及metrics； 综合示例4housing数据集回归算法的metric。\n",
    "\n",
    "### 5.1 MSE\n",
    "\n",
    "我们先看一下回归问题常用的均方根误差MSE。"
   ]
  },
  {
   "cell_type": "code",
   "execution_count": 22,
   "metadata": {},
   "outputs": [
    {
     "name": "stdout",
     "output_type": "stream",
     "text": [
      "69658.1903557702\n"
     ]
    }
   ],
   "source": [
    "from sklearn.metrics import mean_squared_error\n",
    "housing_pred = lin_reg.predict(housing_feature)\n",
    "lin_mse = mean_squared_error(housing_label, housing_pred)\n",
    "print(np.sqrt(lin_mse))"
   ]
  },
  {
   "cell_type": "markdown",
   "metadata": {},
   "source": [
    "### 5.2 交叉验证\n",
    "使用sklearn提供的cross_val_score()，我们可以很方便的交叉验证模型效果。比如，我们看一下上面5和非5的线性分类器的准确率："
   ]
  },
  {
   "cell_type": "code",
   "execution_count": 66,
   "metadata": {},
   "outputs": [
    {
     "data": {
      "text/plain": [
       "array([0.96 , 0.958, 0.964])"
      ]
     },
     "execution_count": 66,
     "metadata": {},
     "output_type": "execute_result"
    }
   ],
   "source": [
    "from sklearn.model_selection import cross_val_score, cross_val_predict\n",
    "cross_val_score(sgd_clf, X_train, y_train_5, cv=3, scoring='accuracy')\n"
   ]
  },
  {
   "cell_type": "markdown",
   "metadata": {},
   "source": [
    "上述代码中，我们随机划分训练数据和测试数据，训练模型后计算准确率，并重复了3次。"
   ]
  },
  {
   "cell_type": "markdown",
   "metadata": {},
   "source": [
    "### 5.3 准确率、精度、召回率、F1、AUC\n",
    "\n",
    "下面我们主要看一下准确率、精度、召回率、F1、ROC/AUC等常用于二分类问题的metrics。\n",
    "\n",
    "#### 准确率"
   ]
  },
  {
   "cell_type": "code",
   "execution_count": 67,
   "metadata": {},
   "outputs": [
    {
     "data": {
      "text/plain": [
       "0.960390625"
      ]
     },
     "execution_count": 67,
     "metadata": {},
     "output_type": "execute_result"
    }
   ],
   "source": [
    "from sklearn.metrics import accuracy_score, confusion_matrix, precision_score, recall_score, f1_score, precision_recall_curve\n",
    "y_pred_5 = sgd_clf.predict(X_test)\n",
    "\n",
    "accuracy_score(y_test_5, y_pred_5)"
   ]
  },
  {
   "cell_type": "markdown",
   "metadata": {},
   "source": [
    "#### 混淆矩阵"
   ]
  },
  {
   "cell_type": "code",
   "execution_count": 40,
   "metadata": {},
   "outputs": [
    {
     "data": {
      "text/plain": [
       "array([[56924,  1277],\n",
       "       [ 1258,  4541]])"
      ]
     },
     "execution_count": 40,
     "metadata": {},
     "output_type": "execute_result"
    }
   ],
   "source": [
    "confusion_matrix(y_test_5, y_pred_5)"
   ]
  },
  {
   "cell_type": "markdown",
   "metadata": {},
   "source": [
    "#### 精度、召回率、F1"
   ]
  },
  {
   "cell_type": "code",
   "execution_count": 42,
   "metadata": {},
   "outputs": [
    {
     "data": {
      "text/plain": [
       "0.7805087658989344"
      ]
     },
     "execution_count": 42,
     "metadata": {},
     "output_type": "execute_result"
    }
   ],
   "source": [
    "precision_score(y_test_5, y_pred_5)\n"
   ]
  },
  {
   "cell_type": "code",
   "execution_count": 43,
   "metadata": {},
   "outputs": [
    {
     "data": {
      "text/plain": [
       "0.7830660458699776"
      ]
     },
     "execution_count": 43,
     "metadata": {},
     "output_type": "execute_result"
    }
   ],
   "source": [
    "recall_score(y_test_5, y_pred_5)\n"
   ]
  },
  {
   "cell_type": "code",
   "execution_count": 44,
   "metadata": {},
   "outputs": [
    {
     "data": {
      "text/plain": [
       "0.7817853146251184"
      ]
     },
     "execution_count": 44,
     "metadata": {},
     "output_type": "execute_result"
    }
   ],
   "source": [
    "f1_score(y_test_5, y_pred_5)"
   ]
  },
  {
   "cell_type": "markdown",
   "metadata": {},
   "source": [
    "#### ROC & AUC"
   ]
  },
  {
   "cell_type": "code",
   "execution_count": 45,
   "metadata": {},
   "outputs": [
    {
     "data": {
      "text/plain": [
       "0.880562421055296"
      ]
     },
     "execution_count": 45,
     "metadata": {},
     "output_type": "execute_result"
    }
   ],
   "source": [
    "from sklearn.metrics import roc_auc_score\n",
    "roc_auc_score(y_test_5, y_pred_5)"
   ]
  },
  {
   "cell_type": "markdown",
   "metadata": {},
   "source": [
    "### 5.4 阈值衡量、ROC曲线\n",
    "\n",
    "sklearn不允许对分类模型直接设置阈值，但是可以访问它用于预测的决策分数。不是调用分类器的predict()函数，而是调用decision_function()函数，这种方法返回每个实例的分数，然后就可以根据这些分数，使用任意阈值进行预测了。\n",
    "\n",
    "我们先看个示例："
   ]
  },
  {
   "cell_type": "code",
   "execution_count": 58,
   "metadata": {},
   "outputs": [
    {
     "name": "stdout",
     "output_type": "stream",
     "text": [
      "[ True]\n",
      "[41983.59649976]\n"
     ]
    }
   ],
   "source": [
    "y_pred = sgd_clf.predict([X_test[11]])\n",
    "print(y_pred)\n",
    "\n",
    "y_score = sgd_clf.decision_function([X_test[11]])\n",
    "print(y_score)"
   ]
  },
  {
   "cell_type": "markdown",
   "metadata": {},
   "source": [
    "我们随机抽取了一个样本，其score=41983，而默认的阈值为0，所以预测结果为True。如果我们现在想提高精度（降低其召回率），那可以提高其阈值："
   ]
  },
  {
   "cell_type": "code",
   "execution_count": 57,
   "metadata": {},
   "outputs": [
    {
     "name": "stdout",
     "output_type": "stream",
     "text": [
      "[False]\n"
     ]
    }
   ],
   "source": [
    "threshold = 50000\n",
    "y_predict_t = (y_score > threshold)\n",
    "print(y_predict_t)"
   ]
  },
  {
   "cell_type": "markdown",
   "metadata": {},
   "source": [
    "#### 阈值选择\n",
    "\n",
    "那怎么选取合适的阈值呢？\n",
    "\n",
    "我们先使用cross_val_predict()获取决策分数而非预测结果；然后使用precision_recall_curve()计算所有可能阈值的精度和召回率；最后使用matplotlib绘制精度和召回率相对于阈值的函数组："
   ]
  },
  {
   "cell_type": "code",
   "execution_count": 73,
   "metadata": {},
   "outputs": [
    {
     "data": {
      "image/png": "[encoded data removed]",
      "text/plain": [
       "<Figure size 432x288 with 1 Axes>"
      ]
     },
     "metadata": {
      "needs_background": "light"
     },
     "output_type": "display_data"
    }
   ],
   "source": [
    "y_score = cross_val_predict(sgd_clf, X_train, y_train_5, cv=3, method='decision_function')\n",
    "precisions, recalls, thresholds = precision_recall_curve(y_train_5, y_score)\n",
    "def plot_precision_recall_vs_threshold(precisions, recalls, thresholds):\n",
    "    plt.plot(thresholds, precisions[:-1], 'b--', label='Precision')\n",
    "    plt.plot(thresholds, recalls[:-1], 'g-', label='Recall')\n",
    "    \n",
    "plot_precision_recall_vs_threshold(precisions, recalls, thresholds)\n",
    "plt.show()"
   ]
  },
  {
   "cell_type": "markdown",
   "metadata": {},
   "source": [
    "根据上图，可以选择合适的阈值。\n",
    "\n",
    "假设你决定将精度设置为90%："
   ]
  },
  {
   "cell_type": "code",
   "execution_count": 76,
   "metadata": {},
   "outputs": [
    {
     "name": "stdout",
     "output_type": "stream",
     "text": [
      "107733.64594126954\n"
     ]
    }
   ],
   "source": [
    "threshold_90_precision = thresholds[np.argmax(precisions>=0.90)]\n",
    "print(threshold_90_precision)"
   ]
  },
  {
   "cell_type": "markdown",
   "metadata": {},
   "source": [
    "取的合适的阈值后，我们可以这样指定最终的预测结果："
   ]
  },
  {
   "cell_type": "code",
   "execution_count": 79,
   "metadata": {},
   "outputs": [
    {
     "name": "stdout",
     "output_type": "stream",
     "text": [
      "[False False False ... False False False]\n"
     ]
    }
   ],
   "source": [
    "y_pred_90 = (y_score >= threshold_90_precision)\n",
    "print(y_pred_90)"
   ]
  },
  {
   "cell_type": "markdown",
   "metadata": {},
   "source": [
    "#### ROC曲线\n",
    "\n",
    "画ROC曲线和上述的精度、召回率曲线类似，但要先算出FPR和TPR："
   ]
  },
  {
   "cell_type": "code",
   "execution_count": 83,
   "metadata": {},
   "outputs": [
    {
     "data": {
      "image/png": "[encoded data removed]",
      "text/plain": [
       "<Figure size 432x288 with 1 Axes>"
      ]
     },
     "metadata": {
      "needs_background": "light"
     },
     "output_type": "display_data"
    }
   ],
   "source": [
    "from sklearn.metrics import roc_curve\n",
    "fpr, tpr, thresholds = roc_curve(y_train_5, y_score)\n",
    "def plt_roc_curve(fpr, tpr, label=None):\n",
    "    plt.plot(fpr, tpr, linewidth=2, label=label)\n",
    "    plt.plot([0,1], [0,1], 'k--')\n",
    "    \n",
    "plt_roc_curve(fpr, tpr)\n",
    "plt.show()"
   ]
  },
  {
   "cell_type": "code",
   "execution_count": null,
   "metadata": {},
   "outputs": [],
   "source": [
    "画出ROC曲线后，可用"
   ]
  },
  {
   "cell_type": "code",
   "execution_count": 84,
   "metadata": {},
   "outputs": [
    {
     "data": {
      "text/plain": [
       "0.880562421055296"
      ]
     },
     "execution_count": 84,
     "metadata": {},
     "output_type": "execute_result"
    }
   ],
   "source": [
    "roc_auc_score(y_test_5, y_pred_5)"
   ]
  },
  {
   "cell_type": "code",
   "execution_count": null,
   "metadata": {},
   "outputs": [],
   "source": []
  }
 ],
 "metadata": {
  "kernelspec": {
   "display_name": "Python 3",
   "language": "python",
   "name": "python3"
  },
  "language_info": {
   "codemirror_mode": {
    "name": "ipython",
    "version": 3
   },
   "file_extension": ".py",
   "mimetype": "text/x-python",
   "name": "python",
   "nbconvert_exporter": "python",
   "pygments_lexer": "ipython3",
   "version": "3.8.5"
  }
 },
 "nbformat": 4,
 "nbformat_minor": 4
}
