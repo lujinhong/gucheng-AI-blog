{
 "cells": [
  {
   "cell_type": "code",
   "execution_count": 23,
   "metadata": {},
   "outputs": [],
   "source": [
    "import numpy as np\n",
    "import pandas as pd\n",
    "import sklearn"
   ]
  },
  {
   "cell_type": "markdown",
   "metadata": {},
   "source": [
    "在实际项目中，我们经常需要将数据拆分为训练集、测试集、验证集等。本部分介绍了如何拆分数据集，主要包括自定义实现以及sklearn实现2种方式。\n",
    "\n",
    "## 1、数据乱序 shuffle() & permutation()\n",
    "拆分前，一般会先对数据进行随机排序。\n",
    "\n",
    "numpy.random中有shuffle()和permutation()2个函数均可用于对数据进行乱序。主要区别在于：\n",
    "* shuffle()直接对原数据进行重排，无返回值。\n",
    "* permutation()复制原数据，然后再重排，返回重排后的数组。原数据没有任何变化。\n",
    "\n",
    "生成数据："
   ]
  },
  {
   "cell_type": "code",
   "execution_count": 24,
   "metadata": {},
   "outputs": [
    {
     "name": "stdout",
     "output_type": "stream",
     "text": [
      "[[ 0  1  2  3  4  5  6  7  8  9]\n",
      " [10 11 12 13 14 15 16 17 18 19]\n",
      " [20 21 22 23 24 25 26 27 28 29]\n",
      " [30 31 32 33 34 35 36 37 38 39]\n",
      " [40 41 42 43 44 45 46 47 48 49]\n",
      " [50 51 52 53 54 55 56 57 58 59]\n",
      " [60 61 62 63 64 65 66 67 68 69]\n",
      " [70 71 72 73 74 75 76 77 78 79]\n",
      " [80 81 82 83 84 85 86 87 88 89]\n",
      " [90 91 92 93 94 95 96 97 98 99]]\n"
     ]
    }
   ],
   "source": [
    "data = np.arange(100).reshape(10,-1)\n",
    "print(data)"
   ]
  },
  {
   "cell_type": "markdown",
   "metadata": {},
   "source": [
    "使用permutation()重排："
   ]
  },
  {
   "cell_type": "code",
   "execution_count": 25,
   "metadata": {},
   "outputs": [
    {
     "name": "stdout",
     "output_type": "stream",
     "text": [
      "[[ 0  1  2  3  4  5  6  7  8  9]\n",
      " [40 41 42 43 44 45 46 47 48 49]\n",
      " [60 61 62 63 64 65 66 67 68 69]\n",
      " [90 91 92 93 94 95 96 97 98 99]\n",
      " [50 51 52 53 54 55 56 57 58 59]\n",
      " [70 71 72 73 74 75 76 77 78 79]\n",
      " [10 11 12 13 14 15 16 17 18 19]\n",
      " [30 31 32 33 34 35 36 37 38 39]\n",
      " [20 21 22 23 24 25 26 27 28 29]\n",
      " [80 81 82 83 84 85 86 87 88 89]]\n",
      "[[ 0  1  2  3  4  5  6  7  8  9]\n",
      " [10 11 12 13 14 15 16 17 18 19]\n",
      " [20 21 22 23 24 25 26 27 28 29]\n",
      " [30 31 32 33 34 35 36 37 38 39]\n",
      " [40 41 42 43 44 45 46 47 48 49]\n",
      " [50 51 52 53 54 55 56 57 58 59]\n",
      " [60 61 62 63 64 65 66 67 68 69]\n",
      " [70 71 72 73 74 75 76 77 78 79]\n",
      " [80 81 82 83 84 85 86 87 88 89]\n",
      " [90 91 92 93 94 95 96 97 98 99]]\n"
     ]
    }
   ],
   "source": [
    "x = np.random.permutation(data)\n",
    "print(x)\n",
    "print(data)"
   ]
  },
  {
   "cell_type": "markdown",
   "metadata": {},
   "source": [
    "使用shuffle()重排："
   ]
  },
  {
   "cell_type": "code",
   "execution_count": 26,
   "metadata": {},
   "outputs": [
    {
     "name": "stdout",
     "output_type": "stream",
     "text": [
      "[[20 21 22 23 24 25 26 27 28 29]\n",
      " [50 51 52 53 54 55 56 57 58 59]\n",
      " [40 41 42 43 44 45 46 47 48 49]\n",
      " [70 71 72 73 74 75 76 77 78 79]\n",
      " [80 81 82 83 84 85 86 87 88 89]\n",
      " [30 31 32 33 34 35 36 37 38 39]\n",
      " [10 11 12 13 14 15 16 17 18 19]\n",
      " [90 91 92 93 94 95 96 97 98 99]\n",
      " [60 61 62 63 64 65 66 67 68 69]\n",
      " [ 0  1  2  3  4  5  6  7  8  9]]\n"
     ]
    }
   ],
   "source": [
    "np.random.shuffle(data)\n",
    "print(data)"
   ]
  },
  {
   "cell_type": "markdown",
   "metadata": {},
   "source": [
    "## 2、自定义拆分数据\n",
    "\n",
    "### 2.1 基本方式\n",
    "我们使用自定义函数的方式，随机抽取20%的样本作为测试集："
   ]
  },
  {
   "cell_type": "code",
   "execution_count": 45,
   "metadata": {},
   "outputs": [
    {
     "name": "stdout",
     "output_type": "stream",
     "text": [
      "    0   1   2   3   4   5   6   7   8   9\n",
      "0   0   1   2   3   4   5   6   7   8   9\n",
      "1  40  41  42  43  44  45  46  47  48  49\n"
     ]
    }
   ],
   "source": [
    "\n",
    "#如果是pandas数据\n",
    "def split_train_test(data, test_ratio):\n",
    "    shuffle_indices = np.random.permutation(len(data))\n",
    "    test_size = int(len(data) * test_ratio)                                                     \n",
    "    training_idx, test_idx = shuffle_indices[test_size:], shuffle_indices[:test_size]\n",
    "    return data.iloc[training_idx], data.iloc[test_idx]\n",
    "\n",
    "trining_data, test_data = split_train_test(pd.DataFrame(x), 0.2)\n",
    "print(test_data)\n"
   ]
  },
  {
   "cell_type": "code",
   "execution_count": 40,
   "metadata": {},
   "outputs": [
    {
     "name": "stdout",
     "output_type": "stream",
     "text": [
      "[[70 71 72 73 74 75 76 77 78 79]\n",
      " [90 91 92 93 94 95 96 97 98 99]]\n"
     ]
    }
   ],
   "source": [
    "#如果是numpy数据,建议使用pd.DataFrame()先转换为pandas数据，也可以使用以下方式：\n",
    "def split_train_test_np(data, test_ratio):\n",
    "    shuffle_indeices = np.random.permutation(data.shape[0])\n",
    "    test_size = int(data.shape[0] * test_ratio)                                                     \n",
    "    training_idx, test_idx = shuffle_indeices[test_size:], shuffle_indeices[:test_size]\n",
    "    return data[training_idx], data[test_idx]\n",
    "\n",
    "trining_data, test_data = split_train_test_np(x, 0.2)\n",
    "print(test_data)"
   ]
  },
  {
   "cell_type": "markdown",
   "metadata": {},
   "source": [
    "### 2.2 固定样本\n",
    "运行上面的代码会发现，每次运行时得到的样本都不同，我们可以增加一个随机种子，使得每次随机结果都相同。"
   ]
  },
  {
   "cell_type": "code",
   "execution_count": 48,
   "metadata": {},
   "outputs": [
    {
     "name": "stdout",
     "output_type": "stream",
     "text": [
      "    0   1   2   3   4   5   6   7   8   9\n",
      "8  20  21  22  23  24  25  26  27  28  29\n",
      "1  40  41  42  43  44  45  46  47  48  49\n"
     ]
    }
   ],
   "source": [
    "np.random.seed(42)\n",
    "\n",
    "trining_data, test_data = split_train_test(pd.DataFrame(x), 0.2)\n",
    "print(test_data)"
   ]
  },
  {
   "cell_type": "markdown",
   "metadata": {},
   "source": [
    "### 2.3 样本集更新导致的测试集变化\n",
    "上述虽然解决了每次运行得到不同随机结果的问题，但如果由于样本增加或者减少时，一个样本有可能会被重新划分到另一个数据集。\n",
    "\n",
    "解决这个问题的思路是：计算每个实例标识符的hash值，如果hash小于最大值的20%，则将实例放入测试集："
   ]
  },
  {
   "cell_type": "code",
   "execution_count": 50,
   "metadata": {},
   "outputs": [],
   "source": [
    "from zlib import crc32\n",
    "\n",
    "def test_set_check(identifier, test_ratio):\n",
    "    return crc32(np.int64(identifier)) & 0xffffffff < test_ratio * 2**32\n",
    "\n",
    "def split_train_test_by_id(data, test_ratio, id_column):\n",
    "    ids = data[id_column]\n",
    "    in_test_set = ids.apply(lambda id_: test_set_check(id_, test_ratio))\n",
    "    return data.loc[~in_test_set], data.loc[in_test_set]"
   ]
  },
  {
   "cell_type": "code",
   "execution_count": 60,
   "metadata": {},
   "outputs": [
    {
     "data": {
      "text/plain": [
       "(   index   0   1   2   3   4   5   6   7   8   9\n",
       " 0      0   0   1   2   3   4   5   6   7   8   9\n",
       " 1      1  40  41  42  43  44  45  46  47  48  49\n",
       " 3      3  90  91  92  93  94  95  96  97  98  99\n",
       " 4      4  50  51  52  53  54  55  56  57  58  59\n",
       " 6      6  10  11  12  13  14  15  16  17  18  19\n",
       " 7      7  30  31  32  33  34  35  36  37  38  39\n",
       " 8      8  20  21  22  23  24  25  26  27  28  29\n",
       " 9      9  80  81  82  83  84  85  86  87  88  89,\n",
       "    index   0   1   2   3   4   5   6   7   8   9\n",
       " 2      2  60  61  62  63  64  65  66  67  68  69\n",
       " 5      5  70  71  72  73  74  75  76  77  78  79)"
      ]
     },
     "execution_count": 60,
     "metadata": {},
     "output_type": "execute_result"
    }
   ],
   "source": [
    "# 由于housing数据没有index，所以我们使用行索引作为ID：\n",
    "x_pd = pd.DataFrame(x)\n",
    "x_with_id = x_pd.reset_index()\n",
    "split_train_test_by_id(x_with_id, 0.2, 'index')"
   ]
  },
  {
   "cell_type": "markdown",
   "metadata": {},
   "source": [
    "## 3、使用sklearn的方式\n",
    "\n",
    "其实sklearn也提供了一个函数用于同样的功能："
   ]
  },
  {
   "cell_type": "code",
   "execution_count": 63,
   "metadata": {},
   "outputs": [
    {
     "data": {
      "text/html": [
       "<div>\n",
       "<style scoped>\n",
       "    .dataframe tbody tr th:only-of-type {\n",
       "        vertical-align: middle;\n",
       "    }\n",
       "\n",
       "    .dataframe tbody tr th {\n",
       "        vertical-align: top;\n",
       "    }\n",
       "\n",
       "    .dataframe thead th {\n",
       "        text-align: right;\n",
       "    }\n",
       "</style>\n",
       "<table border=\"1\" class=\"dataframe\">\n",
       "  <thead>\n",
       "    <tr style=\"text-align: right;\">\n",
       "      <th></th>\n",
       "      <th>0</th>\n",
       "      <th>1</th>\n",
       "      <th>2</th>\n",
       "      <th>3</th>\n",
       "      <th>4</th>\n",
       "      <th>5</th>\n",
       "      <th>6</th>\n",
       "      <th>7</th>\n",
       "      <th>8</th>\n",
       "      <th>9</th>\n",
       "    </tr>\n",
       "  </thead>\n",
       "  <tbody>\n",
       "    <tr>\n",
       "      <th>8</th>\n",
       "      <td>20</td>\n",
       "      <td>21</td>\n",
       "      <td>22</td>\n",
       "      <td>23</td>\n",
       "      <td>24</td>\n",
       "      <td>25</td>\n",
       "      <td>26</td>\n",
       "      <td>27</td>\n",
       "      <td>28</td>\n",
       "      <td>29</td>\n",
       "    </tr>\n",
       "    <tr>\n",
       "      <th>1</th>\n",
       "      <td>40</td>\n",
       "      <td>41</td>\n",
       "      <td>42</td>\n",
       "      <td>43</td>\n",
       "      <td>44</td>\n",
       "      <td>45</td>\n",
       "      <td>46</td>\n",
       "      <td>47</td>\n",
       "      <td>48</td>\n",
       "      <td>49</td>\n",
       "    </tr>\n",
       "  </tbody>\n",
       "</table>\n",
       "</div>"
      ],
      "text/plain": [
       "    0   1   2   3   4   5   6   7   8   9\n",
       "8  20  21  22  23  24  25  26  27  28  29\n",
       "1  40  41  42  43  44  45  46  47  48  49"
      ]
     },
     "execution_count": 63,
     "metadata": {},
     "output_type": "execute_result"
    }
   ],
   "source": [
    "from sklearn.model_selection import train_test_split\n",
    "\n",
    "train_set, test_set = train_test_split(x_pd, test_size=0.2, random_state=42)\n",
    "test_set.head()"
   ]
  },
  {
   "cell_type": "code",
   "execution_count": null,
   "metadata": {},
   "outputs": [],
   "source": []
  },
  {
   "cell_type": "code",
   "execution_count": null,
   "metadata": {},
   "outputs": [],
   "source": []
  }
 ],
 "metadata": {
  "kernelspec": {
   "display_name": "Python 3",
   "language": "python",
   "name": "python3"
  },
  "language_info": {
   "codemirror_mode": {
    "name": "ipython",
    "version": 3
   },
   "file_extension": ".py",
   "mimetype": "text/x-python",
   "name": "python",
   "nbconvert_exporter": "python",
   "pygments_lexer": "ipython3",
   "version": "3.8.5"
  }
 },
 "nbformat": 4,
 "nbformat_minor": 4
}
