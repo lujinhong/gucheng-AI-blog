{
 "cells": [
  {
   "cell_type": "markdown",
   "metadata": {},
   "source": [
    "# A+视频素材分析\n",
    "\n",
    "## 分析步骤\n",
    "\n",
    "1. 视频识别文本\n",
    "    1. 视频截帧图片：图片识别\n",
    "        * [cnstd](https://github.com/breezedeus/cnstd) and [cnocr](https://github.com/breezedeus/cnocr)\n",
    "            * cnocr 是 Python 3 下的中英文OCR工具包，自带了多个训练好的识别模型（最小模型仅 4.7M），安装后即可直接使用。\n",
    "            * cnocr 主要针对的是排版简单的印刷体文字图片，如截图图片，扫描件等。目前内置的文字检测和分行模块无法处理复杂的文字排版定位。\n",
    "            * 如果要用于场景文字图片的识别，需要结合其他的场景文字检测引擎使用，例如同样基于 MXNet 的文字检测引擎 cnstd 。\n",
    "        * [easyocr](https://github.com/JaidedAI/EasyOCR)\n",
    "            * Ready-to-use OCR with 80+ [supported languages](https://www.jaided.ai/easyocr) and all popular writing scripts including Latin, Chinese, Arabic, Devanagari, Cyrillic and etc.\n",
    "            * [Try Demo on our website](https://www.jaided.ai/easyocr)\n",
    "        * [chineseocr_lite](https://github.com/DayBreak-u/chineseocr_lite)\n",
    "            * 超轻量级中文ocr，支持竖排文字识别, 支持ncnn、mnn、tnn推理 ( dbnet(1.8M) + crnn(2.5M) + anglenet(378KB)) 总模型仅4.7M\n",
    "        * [chineseocr](https://github.com/chineseocr/chineseocr)\n",
    "            * 基于yolo3 与crnn 实现中文自然场景文字检测及识别\n",
    "    2. 视频抽取音频：语音识别\n",
    "        * [DeepSpeech](https://github.com/mozilla/DeepSpeech)\n",
    "            * DeepSpeech is an open source embedded (offline, on-device) speech-to-text engine which can run in real time on devices ranging from a Raspberry Pi 4 to high power GPU servers.\n",
    "        * [speech_recognition](https://github.com/Uberi/speech_recognition)\n",
    "            * Library for performing speech recognition, with support for several engines and APIs, online and offline.\n",
    "        * [ASRT_SpeechRecognition](https://github.com/nl8590687/ASRT_SpeechRecognition)\n",
    "            * ASRT是一个基于深度学习的中文语音识别系统\n",
    "        * [Automatic_Speech_Recognition](https://github.com/zzw922cn/Automatic_Speech_Recognition)\n",
    "            * End-to-end automatic speech recognition system implemented in TensorFlow.\n",
    "        * [masr](https://github.com/nobody132/masr)\n",
    "            * MASR是一个基于端到端的深度神经网络的中文普通话语音识别项目\n",
    "        * [spleeter](https://github.com/deezer/spleeter)\n",
    "            * Spleeter is Deezer source separation library with pretrained models written in Python and uses Tensorflow. \n",
    "            * It makes it easy to train source separation model (assuming you have a dataset of isolated sources), and provides already trained state of the art model for performing various flavour of separation \n",
    "2. 文本分词\n",
    "3. 形成标签\n",
    "4. 验证测试\n",
    "\n",
    "## 实践\n",
    "\n",
    "### 图片识别\n",
    "\n",
    "#### cnocr\n",
    "\n",
    "* [代码链接](https://colab.research.google.com/drive/1GOgYqxQNNjIPF0Z_KkLoCRTmeslLiAv6#scrollTo=XtoxZk11R5eK)\n",
    "\n",
    "#### easyocr\n",
    "\n",
    "* [代码链接](https://colab.research.google.com/drive/1GOgYqxQNNjIPF0Z_KkLoCRTmeslLiAv6#scrollTo=0H1zQJFySCWR)\n",
    "\n",
    "#### chineseocr_lite\n",
    "\n",
    "\n",
    "#### chineseocr\n",
    "\n"
   ]
  },
  {
   "cell_type": "code",
   "execution_count": null,
   "metadata": {},
   "outputs": [],
   "source": []
  },
  {
   "cell_type": "markdown",
   "metadata": {},
   "source": [
    "### 语音识别\n",
    "\n",
    "#### spleeter\n",
    "\n",
    "* [代码链接](https://colab.research.google.com/drive/1Tr1TJVCRLmTZcr4GrgpWiVdRZamh4FAp#scrollTo=A9NIaMuVfcSU)\n",
    "\n",
    "#### DeepSpeech\n",
    "\n",
    "* [代码链接](https://colab.research.google.com/drive/1Tr1TJVCRLmTZcr4GrgpWiVdRZamh4FAp#scrollTo=Yhp0HJjhTdCj)\n",
    "\n",
    "#### speech_recognition\n",
    "\n",
    "* [代码链接](https://colab.research.google.com/drive/1Tr1TJVCRLmTZcr4GrgpWiVdRZamh4FAp#scrollTo=qwzUwUrQczVP)\n",
    "\n",
    "#### ASRT_SpeechRecognition\n",
    "\n",
    "#### masr\n",
    "\n",
    "#### Automatic_Speech_Recognition"
   ]
  },
  {
   "cell_type": "code",
   "execution_count": null,
   "metadata": {
    "id": "D3dJGjH_eRjC"
   },
   "outputs": [],
   "source": []
  }
 ],
 "metadata": {
  "colab": {
   "collapsed_sections": [
    "XtoxZk11R5eK",
    "0H1zQJFySCWR"
   ],
   "name": "cnocr_test.ipynb",
   "provenance": []
  },
  "kernelspec": {
   "display_name": "Python 3",
   "language": "python",
   "name": "python3"
  },
  "language_info": {
   "codemirror_mode": {
    "name": "ipython",
    "version": 3
   },
   "file_extension": ".py",
   "mimetype": "text/x-python",
   "name": "python",
   "nbconvert_exporter": "python",
   "pygments_lexer": "ipython3",
   "version": "3.8.8"
  }
 },
 "nbformat": 4,
 "nbformat_minor": 4
}
