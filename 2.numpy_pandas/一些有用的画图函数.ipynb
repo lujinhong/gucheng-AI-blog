{
 "cells": [
  {
   "cell_type": "markdown",
   "id": "01d1cccf-21fb-48ba-9feb-9b9e0d4e1fc3",
   "metadata": {},
   "source": [
    "# 高斯分布\n",
    "\n",
    "我们先生成一个高斯分布的向量，然后统计这个向量各个区间的分布并画成图象。"
   ]
  },
  {
   "cell_type": "code",
   "execution_count": 6,
   "id": "2cb45c44-a4ce-4376-95bc-5346cf849c7d",
   "metadata": {},
   "outputs": [
    {
     "data": {
      "image/png": "[encoded data removed]",
      "text/plain": [
       "<Figure size 432x288 with 1 Axes>"
      ]
     },
     "metadata": {
      "needs_background": "light"
     },
     "output_type": "display_data"
    }
   ],
   "source": [
    "import numpy as np\n",
    "import matplotlib.pyplot as plt\n",
    "\n",
    "y = np.random.randn(100000)\n",
    "plt.hist(y, bins=100)\n",
    "plt.show()"
   ]
  },
  {
   "cell_type": "code",
   "execution_count": null,
   "id": "a6fb3bb4-9a9f-4672-aa77-4d42304b23d6",
   "metadata": {},
   "outputs": [],
   "source": []
  }
 ],
 "metadata": {
  "kernelspec": {
   "display_name": "Python 3",
   "language": "python",
   "name": "python3"
  },
  "language_info": {
   "codemirror_mode": {
    "name": "ipython",
    "version": 3
   },
   "file_extension": ".py",
   "mimetype": "text/x-python",
   "name": "python",
   "nbconvert_exporter": "python",
   "pygments_lexer": "ipython3",
   "version": "3.8.8"
  }
 },
 "nbformat": 4,
 "nbformat_minor": 5
}
