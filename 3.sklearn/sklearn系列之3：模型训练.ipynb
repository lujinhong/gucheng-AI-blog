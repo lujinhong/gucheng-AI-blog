{
 "cells": [
  {
   "cell_type": "code",
   "execution_count": 85,
   "metadata": {},
   "outputs": [],
   "source": [
    "import numpy as np\n",
    "import pandas as pd\n",
    "import sklearn\n",
    "import matplotlib.pyplot as plt\n",
    "import os, urllib, tarfile\n"
   ]
  },
  {
   "cell_type": "markdown",
   "metadata": {},
   "source": [
    "本文主要介绍了模型训练中的各方面内容，包括模型构建、loss、优化器、metrics、正则化、学习率、激活函数、epochs、参数初始化、超参数搜索等。\n",
    "\n",
    "\n",
    "\n",
    "## 1、模型训练\n",
    "sklearn使用numpy ndarray或者pandas dataframe作为训练数据，调用fit()函数即可完成训练。\n",
<<<<<<< HEAD
    "本部分我们先介绍一下sklearn的基本用法。\n",
=======
>>>>>>> 2c46d7ec410821bbb6f6a08a8c99a30522e5d9e2
    "\n",
    "### 1.1 二分类\n",
    "\n",
    "我们先看一个二分类问题，将mnist分类成数字5和非5两类："
   ]
  },
  {
   "cell_type": "code",
   "execution_count": 86,
   "metadata": {},
   "outputs": [
    {
     "name": "stdout",
     "output_type": "stream",
     "text": [
      "[False]\n"
     ]
    },
    {
     "data": {
      "text/plain": [
       "array([0.96  , 0.9575, 0.964 ])"
      ]
     },
     "execution_count": 86,
     "metadata": {},
     "output_type": "execute_result"
    }
   ],
   "source": [
    "from sklearn.datasets import fetch_openml\n",
    "mnist = fetch_openml('mnist_784', version=1)\n",
    "X,y = mnist['data'], mnist['target']\n",
    "\n",
    "X_train, X_test = X[:6000], X[6000:]\n",
    "y_train, y_test = y[:6000].astype(np.uint8), y[6000:].astype(np.uint8)\n",
    "y_train_5 = (y_train == 5)\n",
    "y_test_5 = (y_test == 5)\n",
    "\n",
    "from sklearn.linear_model import SGDClassifier\n",
    "sgd_clf = SGDClassifier(loss='hinge')\n",
    "sgd_clf.fit(X_train, y_train_5)\n",
    "print(sgd_clf.predict([X[0]]))\n",
    "\n",
    "from sklearn.model_selection import cross_val_score\n",
    "cross_val_score(sgd_model, X_train, y_train_5, cv=3, scoring='accuracy')"
   ]
  },
  {
   "cell_type": "markdown",
   "metadata": {},
   "source": [
    "### 1.2 回归\n",
    "\n",
    "我们再看一个回归算法的示例，使用的是housing数据集，预测地区房产的中位数。"
   ]
  },
  {
   "cell_type": "code",
   "execution_count": 87,
   "metadata": {},
   "outputs": [
    {
     "name": "stdout",
     "output_type": "stream",
     "text": [
      "-3570118.0614940603 [-4.26104026e+04 -4.24754782e+04  1.14445085e+03 -6.62091740e+00\n",
      "  8.11609666e+01 -3.98732002e+01  7.93047225e+01  3.97522237e+04]\n"
     ]
    }
   ],
   "source": [
    "DOWNLOAD_ROOT = \"https://raw.githubusercontent.com/ageron/handson-ml2/master/\"\n",
    "HOUSING_PATH = os.path.join(\"datasets\", \"housing\")\n",
    "HOUSING_URL = DOWNLOAD_ROOT + \"datasets/housing/housing.tgz\"\n",
    "\n",
    "def fetch_housing_data(housing_url=HOUSING_URL, housing_path=HOUSING_PATH):\n",
    "    if not os.path.isdir(housing_path):\n",
    "        os.makedirs(housing_path)\n",
    "    tgz_file = os.path.join(housing_path,'housing.tgz')\n",
    "    urllib.request.urlretrieve(housing_url, tgz_file)\n",
    "    housing_tgz = tarfile.open(tgz_file)\n",
    "    housing_tgz.extractall(path = housing_path) #解压文件\n",
    "    housing_tgz.close()\n",
    "    \n",
    "# fetch_housing_data()\n",
    "\n",
    "housing = pd.read_csv(os.path.join(HOUSING_PATH,'housing.csv'))\n",
    "\n",
    "median = housing['total_bedrooms'].median()\n",
    "housing['total_bedrooms'].fillna(median,inplace=True)\n",
    "\n",
    "housing_label = housing['median_house_value']\n",
    "housing_feature = housing.drop(['median_house_value','ocean_proximity'], axis=1)\n",
    "\n",
    "from sklearn.linear_model import LinearRegression\n",
    "lin_reg = LinearRegression()\n",
    "lin_reg.fit(housing_feature,housing_label)\n",
    "print(model.intercept_, model.coef_)"
   ]
  },
  {
   "cell_type": "code",
   "execution_count": null,
   "metadata": {},
   "outputs": [],
   "source": []
  },
  {
   "cell_type": "markdown",
   "metadata": {},
   "source": [
    "## 4、正则化\n",
    "\n",
    "正则化是处理模拟过拟合最常用的方式之一。本部分我们介绍常见的正则化方法。\n",
    "\n",
    "###  4.1 L1和L2\n",
    "\n",
    "Lasso回归的一个重要特点是它倾向于完全消除掉最不重要特征的权重（也就是将它们设置为零）因为所有高阶多项式的特征权重都等于零。换句话说，Lasso回归会自动执行特征选择并输出一个稀疏模型（即只有很少的特征有非零权重）。\n",
    "\n",
    "你可以通过查下图来了解为什么会这样：轴代表两个模型参数，背景轮廓代表不同的损失函数。在左上图中，轮廓线代表1损失（|θ1|+|θ2|），当你靠近任何轴时，该损失呈线性下降。例如，如果将模型参数初始化为θ1=2和θ2=0.5，运行梯度下降会使两个参数均等地递减（如黄色虚线所示）。因此θ2将首先达到0（因为开始时接近0）。之后，梯度下降将沿山谷滚动直到其达到θ1=0（有一点反弹，因为1的梯度永远不会接近0：对于每个参数，它们都是1或1）。在右上方的图中，轮廓线代表Lasso的成本函数（即MSE成本函数加L1损失）。白色的小圆圈显示了梯度下降优化某些模型参数的路径，这些参数在θ1=0.25和θ2=1附近初始化：再次注意该路径如何快速到达θ2=0，然后向下滚动并最终在全局最优值附近反弹（由红色正方形表示）。如果增加α，则全局最优值将沿黄色虚线向左移动；如果减少α，则全局最优值将向右移动（在此示例中，非正则化的MSE的最优参数为θ1=2和θ2=0.5）。\n",
    "![](https://lujinhong-markdown.oss-cn-beijing.aliyuncs.com/md/%E6%88%AA%E5%B1%8F2021-05-25%20%E4%B8%8A%E5%8D%8810.02.31.png)\n",
    "底部的两个图显示了相同的内容，但惩罚为L2。在左下图中，你可以看到L2损失随距原点的距离而减小，因此梯度下降沿该点直走。在右下图中，轮廓线代表岭回归的成本函数（即MSE成本函数加L2损失）。Lasso有两个主要区别。首先，随着参数接近全局最优值，梯度会变小，因此，梯度下降自然会减慢，这有助于收敛（因为周围没有反弹）。其次，当你增加α时，最佳参数（用红色正方形表示）越来越接近原点，但是它们从未被完全被消除。\n",
    "\n"
   ]
  },
  {
   "cell_type": "markdown",
   "metadata": {},
   "source": [
    "#### L2正则化、岭回归\n",
    "\n",
    "本部分介绍了sklearn中岭回归的实现方式。\n",
    "\n",
    "sklearn提供了一个Ridge的线性领回归的实现，但更常用的方式是在其它模型中加入penalty='l2'的参数。我们先看一下Rideg类的使用："
   ]
  },
  {
   "cell_type": "code",
   "execution_count": 157,
   "metadata": {},
   "outputs": [
    {
     "name": "stdout",
     "output_type": "stream",
     "text": [
      "[[1.97643979]] [1.01167015]\n"
     ]
    }
   ],
   "source": [
    "X = np.random.rand(1000, 1)\n",
    "y = 2 * X + 1\n",
    "\n",
    "from sklearn.linear_model import Ridge\n",
    "ridge_reg = Ridge(alpha=1, solver='cholesky')\n",
    "ridge_reg.fit(X, y)\n",
    "print(ridge_reg.coef_, ridge_reg.intercept_)\n"
   ]
  },
  {
   "cell_type": "markdown",
   "metadata": {},
   "source": [
    "我们再看一下使用其它模型+penalty参数的方式："
   ]
  },
  {
   "cell_type": "code",
   "execution_count": 190,
   "metadata": {},
   "outputs": [
    {
     "name": "stdout",
     "output_type": "stream",
     "text": [
      "[[1.97643979]] [1.01167015]\n"
     ]
    }
   ],
   "source": [
    "X = np.random.rand(1000, 1)\n",
    "y = 2 * X + 1\n",
    "\n",
    "from sklearn.linear_model import SGDRegressor\n",
    "sgd_reg = SGDRegressor(penalty='l2')\n",
    "sgd_reg.fit(X, y.ravel())\n",
    "print(ridge_reg.coef_, ridge_reg.intercept_)\n"
   ]
  },
  {
   "cell_type": "markdown",
   "metadata": {},
   "source": [
    "#### L1正则化、Lasso回归\n",
    "\n",
    "与L2类似，L1也有Lasso和penalty2种实现方式："
   ]
  },
  {
   "cell_type": "code",
   "execution_count": 178,
   "metadata": {},
   "outputs": [
    {
     "name": "stdout",
     "output_type": "stream",
     "text": [
      "[11.88574327] [256.58076116]\n"
     ]
    }
   ],
   "source": [
    "X = np.random.rand(100, 1) * 10\n",
    "y = 12 * X + 256\n",
    "\n",
    "from sklearn.linear_model import Lasso\n",
    "lasso_reg = Lasso()\n",
    "lasso_reg.fit(X, y)\n",
    "print(lasso_reg.coef_, lasso_reg.intercept_)"
   ]
  },
  {
   "cell_type": "code",
   "execution_count": 181,
   "metadata": {},
   "outputs": [
    {
     "name": "stdout",
     "output_type": "stream",
     "text": [
      "[12.05735998] [255.60450449]\n"
     ]
    }
   ],
   "source": [
    "from sklearn.linear_model import SGDRegressor\n",
    "sgd_reg = SGDRegressor(penalty='l1')\n",
    "sgd_reg.fit(X, y.ravel())\n",
    "print(sgd_reg.coef_, sgd_reg.intercept_)"
   ]
  },
  {
   "cell_type": "markdown",
   "metadata": {},
   "source": [
    "#### 弹性网络\n",
    "\n",
    "弹性网络ElasticNet同时使用L1和L2。"
   ]
  },
  {
   "cell_type": "code",
   "execution_count": 185,
   "metadata": {},
   "outputs": [
    {
     "name": "stdout",
     "output_type": "stream",
     "text": [
      "[11.91128824] [256.42500209]\n"
     ]
    }
   ],
   "source": [
    "X = np.random.rand(100, 1) * 10\n",
    "y = 12 * X + 256\n",
    "\n",
    "from sklearn.linear_model import ElasticNet\n",
    "en_reg = ElasticNet(alpha=0.1, l1_ratio=0.5)\n",
    "en_reg.fit(X,y)\n",
    "print(en_reg.coef_, en_reg.intercept_)"
   ]
  },
  {
   "cell_type": "code",
   "execution_count": 188,
   "metadata": {},
   "outputs": [
    {
     "name": "stdout",
     "output_type": "stream",
     "text": [
      "[12.06448304] [255.59790417]\n"
     ]
    }
   ],
   "source": [
    "from sklearn.linear_model import SGDRegressor\n",
    "sgd_reg = SGDRegressor(penalty='elasticnet')\n",
    "sgd_reg.fit(X, y.ravel())\n",
    "print(sgd_reg.coef_, sgd_reg.intercept_)"
   ]
  },
  {
   "cell_type": "markdown",
   "metadata": {},
   "source": [
    "### 4.2 提前停止\n",
    "\n",
    "为了避免过拟合，也为了记录训练过程中的最优模型，我们经常需要用到提前停止。"
   ]
  },
  {
   "cell_type": "code",
   "execution_count": null,
   "metadata": {},
   "outputs": [],
   "source": [
    "from copy import deepcopy\n",
    "from sklearn.pipeline import Pipeline\n",
    "from sklearn.preprocessing import StandardScaler\n",
    "\n",
    "\n",
    "poly_scaler = Pipeline([\n",
    "        (\"poly_features\", PolynomialFeatures(degree=90, include_bias=False)),\n",
    "        (\"std_scaler\", StandardScaler())\n",
    "    ])\n",
    "\n",
    "X_train_poly_scaled = poly_scaler.fit_transform(X_train)\n",
    "X_val_poly_scaled = poly_scaler.transform(X_val)\n",
    "\n",
    "sgd_reg = SGDRegressor(max_iter=1, tol=-np.infty, warm_start=True,\n",
    "                       penalty=None, learning_rate=\"constant\", eta0=0.0005, random_state=42)\n",
    "\n",
    "minimum_val_error = float(\"inf\")\n",
    "best_epoch = None\n",
    "best_model = None\n",
    "for epoch in range(1000):\n",
    "    sgd_reg.fit(X_train_poly_scaled, y_train)  # continues where it left off\n",
    "    y_val_predict = sgd_reg.predict(X_val_poly_scaled)\n",
    "    val_error = mean_squared_error(y_val, y_val_predict)\n",
    "    if val_error < minimum_val_error:\n",
    "        minimum_val_error = val_error\n",
    "        best_epoch = epoch\n",
    "        best_model = deepcopy(sgd_reg)"
   ]
  },
  {
   "cell_type": "markdown",
   "metadata": {},
   "source": [
    "## 5、metrics\n",
    "\n",
    "chpt3的二分类问题以及metrics； 综合示例4housing数据集回归算法的metric。\n",
    "\n",
    "多分类的metrix问题，请见sklearn综合示例5：多分类问题。\n",
    "### 5.1 MSE\n",
    "\n",
    "我们先看一下回归问题常用的均方根误差MSE。"
   ]
  },
  {
   "cell_type": "code",
   "execution_count": 88,
   "metadata": {},
   "outputs": [
    {
     "name": "stdout",
     "output_type": "stream",
     "text": [
      "69658.1903557702\n"
     ]
    }
   ],
   "source": [
    "from sklearn.metrics import mean_squared_error\n",
    "housing_pred = lin_reg.predict(housing_feature)\n",
    "lin_mse = mean_squared_error(housing_label, housing_pred)\n",
    "print(np.sqrt(lin_mse))"
   ]
  },
  {
   "cell_type": "markdown",
   "metadata": {},
   "source": [
    "### 5.2 交叉验证\n",
    "使用sklearn提供的cross_val_score()，我们可以很方便的交叉验证模型效果。比如，我们看一下上面5和非5的线性分类器的准确率："
   ]
  },
  {
   "cell_type": "code",
   "execution_count": 89,
   "metadata": {},
   "outputs": [
    {
     "data": {
      "text/plain": [
       "array([0.9615, 0.9595, 0.9535])"
      ]
     },
     "execution_count": 89,
     "metadata": {},
     "output_type": "execute_result"
    }
   ],
   "source": [
    "from sklearn.model_selection import cross_val_score, cross_val_predict\n",
    "cross_val_score(sgd_clf, X_train, y_train_5, cv=3, scoring='accuracy')\n"
   ]
  },
  {
   "cell_type": "markdown",
   "metadata": {},
   "source": [
    "上述代码中，我们随机划分训练数据和测试数据，训练模型后计算准确率，并重复了3次。"
   ]
  },
  {
   "cell_type": "markdown",
   "metadata": {},
   "source": [
    "### 5.3 准确率、精度、召回率、F1、AUC\n",
    "\n",
    "下面我们主要看一下准确率、精度、召回率、F1、ROC/AUC等常用于二分类问题的metrics。\n",
    "\n",
    "#### 准确率"
   ]
  },
  {
   "cell_type": "code",
   "execution_count": 90,
   "metadata": {},
   "outputs": [
    {
     "data": {
      "text/plain": [
       "0.96165625"
      ]
     },
     "execution_count": 90,
     "metadata": {},
     "output_type": "execute_result"
    }
   ],
   "source": [
    "from sklearn.metrics import accuracy_score, confusion_matrix, precision_score, recall_score, f1_score, precision_recall_curve\n",
    "y_pred_5 = sgd_clf.predict(X_test)\n",
    "\n",
    "accuracy_score(y_test_5, y_pred_5)"
   ]
  },
  {
   "cell_type": "markdown",
   "metadata": {},
   "source": [
    "#### 混淆矩阵"
   ]
  },
  {
   "cell_type": "code",
   "execution_count": 91,
   "metadata": {},
   "outputs": [
    {
     "data": {
      "text/plain": [
       "array([[57323,   878],\n",
       "       [ 1576,  4223]])"
      ]
     },
     "execution_count": 91,
     "metadata": {},
     "output_type": "execute_result"
    }
   ],
   "source": [
    "confusion_matrix(y_test_5, y_pred_5)"
   ]
  },
  {
   "cell_type": "markdown",
   "metadata": {},
   "source": [
    "#### 精度、召回率、F1"
   ]
  },
  {
   "cell_type": "code",
   "execution_count": 92,
   "metadata": {},
   "outputs": [
    {
     "data": {
      "text/plain": [
       "0.8278768868849246"
      ]
     },
     "execution_count": 92,
     "metadata": {},
     "output_type": "execute_result"
    }
   ],
   "source": [
    "precision_score(y_test_5, y_pred_5)\n"
   ]
  },
  {
   "cell_type": "code",
   "execution_count": 93,
   "metadata": {},
   "outputs": [
    {
     "data": {
      "text/plain": [
       "0.7282290050008622"
      ]
     },
     "execution_count": 93,
     "metadata": {},
     "output_type": "execute_result"
    }
   ],
   "source": [
    "recall_score(y_test_5, y_pred_5)\n"
   ]
  },
  {
   "cell_type": "code",
   "execution_count": 94,
   "metadata": {},
   "outputs": [
    {
     "data": {
      "text/plain": [
       "0.774862385321101"
      ]
     },
     "execution_count": 94,
     "metadata": {},
     "output_type": "execute_result"
    }
   ],
   "source": [
    "f1_score(y_test_5, y_pred_5)"
   ]
  },
  {
   "cell_type": "markdown",
   "metadata": {},
   "source": [
    "#### ROC & AUC"
   ]
  },
  {
   "cell_type": "code",
   "execution_count": 95,
   "metadata": {},
   "outputs": [
    {
     "data": {
      "text/plain": [
       "0.856571676775787"
      ]
     },
     "execution_count": 95,
     "metadata": {},
     "output_type": "execute_result"
    }
   ],
   "source": [
    "from sklearn.metrics import roc_auc_score\n",
    "roc_auc_score(y_test_5, y_pred_5)"
   ]
  },
  {
   "cell_type": "markdown",
   "metadata": {},
   "source": [
    "### 5.4 阈值衡量、ROC曲线\n",
    "\n",
    "sklearn不允许对分类模型直接设置阈值，但是可以访问它用于预测的决策分数。不是调用分类器的predict()函数，而是调用decision_function()函数，这种方法返回每个实例的分数，然后就可以根据这些分数，使用任意阈值进行预测了。\n",
    "\n",
    "我们先看个示例："
   ]
  },
  {
   "cell_type": "code",
   "execution_count": 96,
   "metadata": {},
   "outputs": [
    {
     "name": "stdout",
     "output_type": "stream",
     "text": [
      "[ True]\n",
      "[58446.52780903]\n"
     ]
    }
   ],
   "source": [
    "y_pred = sgd_clf.predict([X_test[11]])\n",
    "print(y_pred)\n",
    "\n",
    "y_score = sgd_clf.decision_function([X_test[11]])\n",
    "print(y_score)"
   ]
  },
  {
   "cell_type": "markdown",
   "metadata": {},
   "source": [
    "我们随机抽取了一个样本，其score=41983，而默认的阈值为0，所以预测结果为True。如果我们现在想提高精度（降低其召回率），那可以提高其阈值："
   ]
  },
  {
   "cell_type": "code",
   "execution_count": 97,
   "metadata": {},
   "outputs": [
    {
     "name": "stdout",
     "output_type": "stream",
     "text": [
      "[ True]\n"
     ]
    }
   ],
   "source": [
    "threshold = 50000\n",
    "y_predict_t = (y_score > threshold)\n",
    "print(y_predict_t)\n",
    "\n",
    "accuracy = accuracy_score(y_test, y_predict_t)\n",
    "precision = precision_score(y_test, y_predict_t)\n",
    "recall = recall_score(y_test, y_predict_t)\n",
    "f1 = f1_score(y_test, y_predict_t)\n",
    "auc = roc_auc_score(y_test, y_predict_t)\n",
    "print(accuracy, precision, recall, f1, auc)"
   ]
  },
  {
   "cell_type": "markdown",
   "metadata": {},
   "source": [
    "#### 阈值选择\n",
    "\n",
    "那怎么选取合适的阈值呢？\n",
    "\n",
    "我们先使用cross_val_predict()获取决策分数而非预测结果；然后使用precision_recall_curve()计算所有可能阈值的精度和召回率；最后使用matplotlib绘制精度和召回率相对于阈值的函数组："
   ]
  },
  {
   "cell_type": "code",
   "execution_count": 98,
   "metadata": {},
   "outputs": [
    {
     "data": {
      "image/png": "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\n",
      "text/plain": [
       "<Figure size 432x288 with 1 Axes>"
      ]
     },
     "metadata": {
      "needs_background": "light"
     },
     "output_type": "display_data"
    }
   ],
   "source": [
    "y_score = cross_val_predict(sgd_clf, X_train, y_train_5, cv=3, method='decision_function')\n",
    "precisions, recalls, thresholds = precision_recall_curve(y_train_5, y_score)\n",
    "def plot_precision_recall_vs_threshold(precisions, recalls, thresholds):\n",
    "    plt.plot(thresholds, precisions[:-1], 'b--', label='Precision')\n",
    "    plt.plot(thresholds, recalls[:-1], 'g-', label='Recall')\n",
    "    \n",
    "plot_precision_recall_vs_threshold(precisions, recalls, thresholds)\n",
    "plt.show()"
   ]
  },
  {
   "cell_type": "markdown",
   "metadata": {},
   "source": [
    "根据上图，可以选择合适的阈值。\n",
    "\n",
    "假设你决定将精度设置为90%："
   ]
  },
  {
   "cell_type": "code",
   "execution_count": 99,
   "metadata": {},
   "outputs": [
    {
     "name": "stdout",
     "output_type": "stream",
     "text": [
      "261289.38745837728\n"
     ]
    }
   ],
   "source": [
    "threshold_90_precision = thresholds[np.argmax(precisions>=0.90)]\n",
    "print(threshold_90_precision)"
   ]
  },
  {
   "cell_type": "markdown",
   "metadata": {},
   "source": [
    "取的合适的阈值后，我们可以这样指定最终的预测结果："
   ]
  },
  {
   "cell_type": "code",
   "execution_count": 100,
   "metadata": {},
   "outputs": [
    {
     "name": "stdout",
     "output_type": "stream",
     "text": [
      "[False False False ... False False False]\n"
     ]
    }
   ],
   "source": [
    "y_pred_90 = (y_score >= threshold_90_precision)\n",
    "print(y_pred_90)"
   ]
  },
  {
   "cell_type": "markdown",
   "metadata": {},
   "source": [
    "#### ROC曲线\n",
    "\n",
    "画ROC曲线和上述的精度、召回率曲线类似，但要先算出FPR和TPR："
   ]
  },
  {
   "cell_type": "code",
   "execution_count": 101,
   "metadata": {},
   "outputs": [
    {
     "data": {
      "image/png": "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\n",
      "text/plain": [
       "<Figure size 432x288 with 1 Axes>"
      ]
     },
     "metadata": {
      "needs_background": "light"
     },
     "output_type": "display_data"
    }
   ],
   "source": [
    "from sklearn.metrics import roc_curve\n",
    "fpr, tpr, thresholds = roc_curve(y_train_5, y_score)\n",
    "def plt_roc_curve(fpr, tpr, label=None):\n",
    "    plt.plot(fpr, tpr, linewidth=2, label=label)\n",
    "    plt.plot([0,1], [0,1], 'k--')\n",
    "    \n",
    "plt_roc_curve(fpr, tpr)\n",
    "plt.show()"
   ]
  },
  {
   "cell_type": "markdown",
   "metadata": {},
   "source": [
    "画出ROC曲线后，可用上述的方法计算得到AUC："
   ]
  },
  {
   "cell_type": "code",
   "execution_count": 102,
   "metadata": {},
   "outputs": [
    {
     "data": {
      "text/plain": [
       "0.856571676775787"
      ]
     },
     "execution_count": 102,
     "metadata": {},
     "output_type": "execute_result"
    }
   ],
   "source": [
    "roc_auc_score(y_test_5, y_pred_5)"
   ]
  },
  {
   "cell_type": "markdown",
   "metadata": {},
   "source": [
    "## 6、多项式回归与学习曲线\n",
    "\n",
    "我们先简单看看多项式回归，然后通过学习曲线看一下过拟合的情况。\n",
    "\n",
    "### 6.1 多项式回归\n",
    "\n",
    "我们使用二次方程生成一些数据，然后拟合。"
   ]
  },
  {
   "cell_type": "code",
   "execution_count": 143,
   "metadata": {},
   "outputs": [],
   "source": [
    "X = 6 * np.random.rand(100, 1) - 3\n",
    "y = 0.5 * X**2 + X + 2 + np.random.rand(100,1)"
   ]
  },
  {
   "cell_type": "markdown",
   "metadata": {},
   "source": [
    "显然，线性模型很难拟合上述数据，于是我们使用sklearn的PolynomialFeatures类来转换训练数据，将训练集中每个特征的平方（二次多项式）添加为新特征（在这种情况下，只有一个特征）："
   ]
  },
  {
   "cell_type": "code",
   "execution_count": 144,
   "metadata": {},
   "outputs": [
    {
     "name": "stdout",
     "output_type": "stream",
     "text": [
      "[0.20297397] [0.20297397 0.04119843]\n"
     ]
    }
   ],
   "source": [
    "from sklearn.preprocessing import PolynomialFeatures\n",
    "poly_feature = PolynomialFeatures(degree=2, include_bias=False)\n",
    "X_poly = poly_feature.fit_transform(X)\n",
    "print(X[0], X_poly[0])"
   ]
  },
  {
   "cell_type": "markdown",
   "metadata": {},
   "source": [
    "使用ScikitLearn的PolynomialFeatures类来转换训练数据，将训练集中每个特征的平方（二次多项式）添加为新特征（在这种情况下，只有一个特征）："
   ]
  },
  {
   "cell_type": "code",
   "execution_count": 145,
   "metadata": {},
   "outputs": [
    {
     "name": "stdout",
     "output_type": "stream",
     "text": [
      "[2.47928928] [[0.97666236 0.51063963]]\n"
     ]
    }
   ],
   "source": [
    "lin_reg = LinearRegression()\n",
    "lin_reg.fit(X_poly, y)\n",
    "print(lin_reg.intercept_, lin_reg.coef_)"
   ]
  },
  {
   "cell_type": "markdown",
   "metadata": {},
   "source": [
    "可以看出，非常接近原来的0.5， 1.0， 2。其中截距由于加了一个0-1间的随机数，所以是2.5。\n",
    "\n",
    "### 6.2 学习曲线\n",
    "\n",
    "我看可以使用交叉验证来估计模型的泛化性能。如果模型在训练数据上表现良好，但根据交叉验证的指标泛化较差，则你的模型过拟合。如果两者的表现均不理想，则说明欠拟合。这是一种区别模型是否过于简单或过于复杂的方法。\n",
    "\n",
    "还有一种方法是观察学习曲线：这个曲线绘制的是模型在训练集和验证集上关于训练集大小（或训练迭代）的性能函数。要生成这个曲线，只需要**在不同大小的训练子集上多次训练模型**即可。"
   ]
  },
  {
   "cell_type": "code",
   "execution_count": 146,
   "metadata": {},
   "outputs": [],
   "source": [
    "from sklearn.metrics import mean_squared_error\n",
    "from sklearn.model_selection import train_test_split\n",
    "\n",
    "def plot_learning_curves(model, X, y):\n",
    "    X_train, X_val, y_train, y_val = train_test_split(X, y, test_size=0.2)\n",
    "    train_errors, val_errors = [], []\n",
    "    for m in range(1,len(X_train)):\n",
    "        model.fit(X_train[:m], y_train[:m])\n",
    "        y_train_pred = model.predict(X_train[:m])\n",
    "        y_val_pred = model.predict(X_val)\n",
    "        train_errors.append(mean_squared_error(y_train[:m], y_train_pred))\n",
    "        val_errors.append(mean_squared_error(y_val, y_val_pred))\n",
    "        plt.plot(np.sqrt(train_errors), 'b--', label='train')\n",
    "        plt.plot(np.sqrt(val_errors), 'r-+', label='val')\n",
    "        plt.grid()"
   ]
  },
  {
   "cell_type": "markdown",
   "metadata": {},
   "source": [
    "我们看一下使用线性模型的学习曲线："
   ]
  },
  {
   "cell_type": "code",
   "execution_count": 152,
   "metadata": {},
   "outputs": [
    {
     "name": "stdout",
     "output_type": "stream",
     "text": [
      "[4.22219747] [[0.96475535]]\n"
     ]
    },
    {
     "data": {
      "image/png": "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\n",
      "text/plain": [
       "<Figure size 432x288 with 1 Axes>"
      ]
     },
     "metadata": {
      "needs_background": "light"
     },
     "output_type": "display_data"
    }
   ],
   "source": [
    "lin_reg = LinearRegression()\n",
    "plot_learning_curves(lin_reg, X, y)\n",
    "\n",
    "print(lin_reg.intercept_, lin_reg.coef_)"
   ]
  },
  {
   "cell_type": "markdown",
   "metadata": {},
   "source": [
    "这种欠拟合的模型值得解释一下。首先，让我们看一下在训练数据上的性能：当训练集中只有一个或两个实例时，模型可以很好地拟合它们，这就是曲线从零开始的原因。但是，随着将新实例添加到训练集中，模型就不可能完美地拟合训练数据，这既因为数据有噪声，又因为它根本不是线性的。因此，训练数据上的误差会一直上升，直到达到平稳状态，此时在训练集中添加新实例并不会使平均误差变好或变差。现在让我们看一下模型在验证数据上的性能。当在很少的训练实例上训练模型时，它无法正确泛化，这就是验证误差最初很大的原因。然后，随着模型经历更多的训练示例，它开始学习，因此验证错误逐渐降低。但是，直线不能很好地对数据进行建模，因此误差最终达到一个平稳的状态，非常接近另外一条曲线。这些学习曲线是典型的欠拟合模型。两条曲线都达到了平稳状态。它们很接近而且很高。\n",
    "\n",
    "下面我们看一下二次多项式的拟合曲线："
   ]
  },
  {
   "cell_type": "code",
   "execution_count": 150,
   "metadata": {},
   "outputs": [
    {
     "name": "stdout",
     "output_type": "stream",
     "text": [
      "[2.47928928] [[0.97666236 0.51063963]]\n"
     ]
    },
    {
     "data": {
      "image/png": "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\n",
      "text/plain": [
       "<Figure size 432x288 with 1 Axes>"
      ]
     },
     "metadata": {
      "needs_background": "light"
     },
     "output_type": "display_data"
    }
   ],
   "source": [
    "poly_feature = PolynomialFeatures(degree=2, include_bias=False)\n",
    "X_poly = poly_feature.fit_transform(X)\n",
    "lin_reg = LinearRegression()\n",
    "lin_reg.fit(X_poly, y)\n",
    "print(lin_reg.intercept_, lin_reg.coef_)\n",
    "\n",
    "plot_learning_curves(lin_reg, X, y)"
   ]
  },
  {
   "cell_type": "markdown",
   "metadata": {},
   "source": [
    "我们再看一下10次多项式的拟合情况："
   ]
  },
  {
   "cell_type": "code",
   "execution_count": 153,
   "metadata": {},
   "outputs": [
    {
     "name": "stdout",
     "output_type": "stream",
     "text": [
      "[2.42873441] [[ 9.37659988e-01  7.48071894e-01  3.63005431e-02 -1.80873839e-01\n",
      "  -2.84013663e-02  4.92345732e-02  7.38648608e-03 -5.63850017e-03\n",
      "  -5.45818240e-04  2.36152880e-04]]\n"
     ]
    },
    {
     "data": {
      "image/png": "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\n",
      "text/plain": [
       "<Figure size 432x288 with 1 Axes>"
      ]
     },
     "metadata": {
      "needs_background": "light"
     },
     "output_type": "display_data"
    }
   ],
   "source": [
    "poly_feature = PolynomialFeatures(degree=10, include_bias=False)\n",
    "X_poly = poly_feature.fit_transform(X)\n",
    "lin_reg = LinearRegression()\n",
    "lin_reg.fit(X_poly, y)\n",
    "print(lin_reg.intercept_, lin_reg.coef_)\n",
    "\n",
    "plot_learning_curves(lin_reg, X, y)"
   ]
  },
  {
   "cell_type": "markdown",
   "metadata": {},
   "source": [
    "统计学和机器学习的重要理论成果是以下事实：模型的泛化误差可以表示为三个非常不同的误差之和：\n",
    "\n",
    "**偏差**\n",
    "\n",
    "这部分泛化误差的原因在于错误的假设，比如假设数据是线性的，而实际上是二次的。高偏差模型最有可能欠拟合训练数据。\n",
    "\n",
    "**方差**\n",
    "\n",
    "这部分是由于模型对训练数据的细微变化过于敏感。具有许多自由度的模型（例如高阶多项式模型）可能具有较高的方差，因此可能过拟合训练数据。\n",
    "\n",
    "**不可避免的误差**\n",
    "\n",
    "这部分误差是因为数据本身的噪声所致。减少这部分误差的唯一方法就是清理数据（例如修复数据源（如损坏的传感器），或者检测并移除异常值）。\n",
    "\n",
    "增加模型的复杂度通常会显著提升模型的方差并减少偏差。反过来，降低模型的复杂度则会提升模型的偏差并降低方差。这就是为什么称其为权衡。\n"
   ]
  },
  {
   "cell_type": "code",
   "execution_count": null,
   "metadata": {},
   "outputs": [],
   "source": []
  }
 ],
 "metadata": {
  "kernelspec": {
   "display_name": "Python 3",
   "language": "python",
   "name": "python3"
  },
  "language_info": {
   "codemirror_mode": {
    "name": "ipython",
    "version": 3
   },
   "file_extension": ".py",
   "mimetype": "text/x-python",
   "name": "python",
   "nbconvert_exporter": "python",
   "pygments_lexer": "ipython3",
   "version": "3.8.8"
  }
 },
 "nbformat": 4,
 "nbformat_minor": 4
}
