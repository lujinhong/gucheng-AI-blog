{
 "cells": [
  {
   "cell_type": "markdown",
   "id": "90f96267",
   "metadata": {},
   "source": [
    "本文主要示范使用sklearn实现决策树的方法。"
   ]
  },
  {
   "cell_type": "code",
   "execution_count": 1,
   "id": "722dd54d",
   "metadata": {},
   "outputs": [],
   "source": [
    "import numpy as np\n",
    "import pandas as pd\n",
    "import sklearn"
   ]
  },
  {
   "cell_type": "markdown",
   "id": "038408ca",
   "metadata": {},
   "source": [
    "示例比较简单，我们使用iris数据集的长度和宽度特征，判断鸢尾花的类别。"
   ]
  },
  {
   "cell_type": "code",
   "execution_count": 11,
   "id": "cd64cdc8",
   "metadata": {},
   "outputs": [
    {
     "data": {
      "text/plain": [
       "DecisionTreeClassifier(max_depth=3)"
      ]
     },
     "execution_count": 11,
     "metadata": {},
     "output_type": "execute_result"
    }
   ],
   "source": [
    "from sklearn.tree import DecisionTreeClassifier\n",
    "from sklearn.datasets import load_iris\n",
    "\n",
    "iris = load_iris()\n",
    "X = iris.data[:, :2]\n",
    "y = iris.target\n",
    "\n",
    "tree_clf = DecisionTreeClassifier(max_depth=3)\n",
    "tree_clf.fit(X, y)"
   ]
  },
  {
   "cell_type": "markdown",
   "id": "b2d6996c",
   "metadata": {},
   "source": [
    "要将决策树可视化，我们可以使用export_graphviz()方法输出一个图形定义文件："
   ]
  },
  {
   "cell_type": "code",
   "execution_count": 12,
   "id": "6f68189f",
   "metadata": {},
   "outputs": [],
   "source": [
    "from sklearn.tree import export_graphviz\n",
    "\n",
    "export_graphviz(\n",
    "    tree_clf,\n",
    "    out_file='/Users/lujinhong/Downloads/iris_tree.dot',\n",
    "    feature_names=iris.feature_names[2:],\n",
    "    class_names=iris.target_names,\n",
    "    rounded=True,\n",
    "    filled=True\n",
    ")"
   ]
  },
  {
   "cell_type": "markdown",
   "id": "c33edb8d",
   "metadata": {},
   "source": [
    "我们使用以下命令将上述文件生成图片：\n",
    "dot -Tpng iris_tree.dot -o iris_tree.png"
   ]
  },
  {
   "cell_type": "markdown",
   "id": "8c79221f",
   "metadata": {},
   "source": [
    "![](https://lujinhong-markdown.oss-cn-beijing.aliyuncs.com/md/iris_tree.png)"
   ]
  },
  {
   "cell_type": "markdown",
   "id": "8b366634",
   "metadata": {},
   "source": [
    "DecisionTreeClassfier还有很多参数，比如：\n"
   ]
  },
  {
   "cell_type": "markdown",
   "id": "6066199f",
   "metadata": {},
   "source": [
    "![](https://lujinhong-markdown.oss-cn-beijing.aliyuncs.com/md/1.png)\n",
    "![](https://lujinhong-markdown.oss-cn-beijing.aliyuncs.com/md/截屏2021-06-03下午4.53.11.png)"
   ]
  },
  {
   "cell_type": "markdown",
   "id": "affc6f4c",
   "metadata": {},
   "source": [
    "决策树DecisionTreeRegressor可以用于回归问题。"
   ]
  },
  {
   "cell_type": "code",
   "execution_count": null,
   "id": "dacf6f37",
   "metadata": {},
   "outputs": [],
   "source": []
  }
 ],
 "metadata": {
  "kernelspec": {
   "display_name": "Python 3",
   "language": "python",
   "name": "python3"
  },
  "language_info": {
   "codemirror_mode": {
    "name": "ipython",
    "version": 3
   },
   "file_extension": ".py",
   "mimetype": "text/x-python",
   "name": "python",
   "nbconvert_exporter": "python",
   "pygments_lexer": "ipython3",
   "version": "3.8.8"
  }
 },
 "nbformat": 4,
 "nbformat_minor": 5
}
